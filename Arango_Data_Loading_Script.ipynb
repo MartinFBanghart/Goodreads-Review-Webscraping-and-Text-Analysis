{
 "cells": [
  {
   "cell_type": "code",
   "execution_count": 173,
   "id": "8e9e7b12-dc9e-425f-9184-61b6750ee80f",
   "metadata": {},
   "outputs": [],
   "source": [
    "# import libraries\n",
    "import pandas as pd\n",
    "import json\n",
    "from arango import ArangoClient\n",
    "import re\n",
    "import gdown\n",
    "from datetime import datetime"
   ]
  },
  {
   "cell_type": "code",
   "execution_count": 34,
   "id": "62222e3e-57bf-4f78-85b7-0bc32c444b7c",
   "metadata": {},
   "outputs": [],
   "source": [
    "# Arango Client Connection\n",
    "client = ArangoClient(hosts= \"http://localhost:8529\")\n",
    "\n",
    "# database connection\n",
    "db = client.db('Goodreads_Book_Reviews', username = 'root', password = 'bolajimartinArango')"
   ]
  },
  {
   "cell_type": "markdown",
   "id": "1d8e93be-41ba-41d8-882b-80b1d77a6902",
   "metadata": {},
   "source": [
    "## Creating First Collection - Top_100_Books\n",
    "\n",
    "Process:\n",
    "- Read File from Google Drive and Change to JSON if file type is not Json\n",
    "- Obtain Keys in the File\n",
    "- Create collection (Top_100_Books)in the Goodreads_Book_Reviews Database\n",
    "- Define the Schemas for the keys in the document and load document into the collection - Top_100_Books"
   ]
  },
  {
   "cell_type": "code",
   "execution_count": 301,
   "id": "2841fc49-82b8-4f81-85af-1c2afbfee498",
   "metadata": {},
   "outputs": [],
   "source": [
    "# read file to be loaded into Arango from google drive into Python\n",
    "url = \"https://drive.google.com/file/d/1FuHlnpkGxleewKeCesZMAQYmhs-lB_Jb/view?usp=share_link\"\n",
    "file_path = \"https://drive.google.com/uc?id=\" + url.split('/')[-2]\n",
    "top100books = pd.read_csv(file_path)"
   ]
  },
  {
   "cell_type": "markdown",
   "id": "f3cb923b-bf40-4592-93ad-09e108d4a1a0",
   "metadata": {},
   "source": [
    "### data cleaning and transformation"
   ]
  },
  {
   "cell_type": "code",
   "execution_count": 307,
   "id": "62414185-1bc7-47ff-a5c7-9104116632fe",
   "metadata": {},
   "outputs": [
    {
     "data": {
      "text/html": [
       "<div>\n",
       "<style scoped>\n",
       "    .dataframe tbody tr th:only-of-type {\n",
       "        vertical-align: middle;\n",
       "    }\n",
       "\n",
       "    .dataframe tbody tr th {\n",
       "        vertical-align: top;\n",
       "    }\n",
       "\n",
       "    .dataframe thead th {\n",
       "        text-align: right;\n",
       "    }\n",
       "</style>\n",
       "<table border=\"1\" class=\"dataframe\">\n",
       "  <thead>\n",
       "    <tr style=\"text-align: right;\">\n",
       "      <th></th>\n",
       "      <th>Book Title</th>\n",
       "      <th>Book Link</th>\n",
       "      <th>Review Page Link</th>\n",
       "      <th>Unique ID</th>\n",
       "    </tr>\n",
       "  </thead>\n",
       "  <tbody>\n",
       "    <tr>\n",
       "      <th>10</th>\n",
       "      <td>Gone with the Wind</td>\n",
       "      <td>https://www.goodreads.com/book/show/18405.Gone...</td>\n",
       "      <td>https://www.goodreads.com/book/show/18405/revi...</td>\n",
       "      <td>18405</td>\n",
       "    </tr>\n",
       "    <tr>\n",
       "      <th>89</th>\n",
       "      <td>The Berlin Stories</td>\n",
       "      <td>https://www.goodreads.com/book/show/16810.The_...</td>\n",
       "      <td>https://www.goodreads.com/book/show/16810/revi...</td>\n",
       "      <td>16810</td>\n",
       "    </tr>\n",
       "  </tbody>\n",
       "</table>\n",
       "</div>"
      ],
      "text/plain": [
       "            Book Title                                          Book Link  \\\n",
       "10  Gone with the Wind  https://www.goodreads.com/book/show/18405.Gone...   \n",
       "89  The Berlin Stories  https://www.goodreads.com/book/show/16810.The_...   \n",
       "\n",
       "                                     Review Page Link  Unique ID  \n",
       "10  https://www.goodreads.com/book/show/18405/revi...      18405  \n",
       "89  https://www.goodreads.com/book/show/16810/revi...      16810  "
      ]
     },
     "execution_count": 307,
     "metadata": {},
     "output_type": "execute_result"
    }
   ],
   "source": [
    "# view data in csv\n",
    "top100books.sample(2)"
   ]
  },
  {
   "cell_type": "code",
   "execution_count": 315,
   "id": "b8fd6ca4-de8c-4fad-8fa2-2dabb4268b84",
   "metadata": {},
   "outputs": [
    {
     "data": {
      "text/plain": [
       "Index(['book_title', 'book_link', 'review_page_link', 'unique_id'], dtype='object')"
      ]
     },
     "execution_count": 315,
     "metadata": {},
     "output_type": "execute_result"
    }
   ],
   "source": [
    "# obtain the keys in the json file\n",
    "columns_top100books = [i.lower().replace(' ', '_') for i in list(top100books.keys())]\n",
    "\n",
    "for i in range(len(columns_top100books)):\n",
    "    top100books = top100books.rename(columns = {top100books.columns[i]: columns_top100books[i]})\n",
    "\n",
    "top100books.columns"
   ]
  },
  {
   "cell_type": "code",
   "execution_count": 316,
   "id": "56eb452f-6598-4482-972f-a33236e6391a",
   "metadata": {},
   "outputs": [],
   "source": [
    "# transform into json format to load into Arango\n",
    "top_100books_json = json.loads(top100books.to_json(orient='records'))"
   ]
  },
  {
   "cell_type": "markdown",
   "id": "a0e3423b-54b5-42ba-9be8-deb319cc90a4",
   "metadata": {},
   "source": [
    "### data loading"
   ]
  },
  {
   "cell_type": "code",
   "execution_count": 317,
   "id": "b2d0c46a-8475-4d2a-9926-342dd978d7f9",
   "metadata": {
    "tags": []
   },
   "outputs": [
    {
     "data": {
      "text/plain": [
       "{'error': False,\n",
       " 'created': 100,\n",
       " 'errors': 0,\n",
       " 'empty': 0,\n",
       " 'updated': 0,\n",
       " 'ignored': 0,\n",
       " 'details': []}"
      ]
     },
     "execution_count": 317,
     "metadata": {},
     "output_type": "execute_result"
    }
   ],
   "source": [
    "# define schemas for the keys in the json file\n",
    "top100books_schema = {\n",
    "    'rule': {\n",
    "        'type': 'object',\n",
    "        'properties': {\n",
    "            'book_title': {'type': 'string'},\n",
    "            'book_link': {'type': 'string'},\n",
    "            'review_page_link': {'type': 'string'},\n",
    "            'unique_id' : {'type': 'integer'}\n",
    "            \n",
    "        },\n",
    "        'required': ['book_title', 'book_link', 'review_page_link', 'unique_id']\n",
    "    },\n",
    "    'level': 'moderate',\n",
    "    'message': 'Schema Validation Failed.'\n",
    "}\n",
    "\n",
    "# create collection in the database\n",
    "top_100books_collection = db.create_collection('Top_100_Books', schema = top100books_schema)\n",
    "\n",
    "# import json file into collection - top_100books_collection\n",
    "top_100books_collection.import_bulk(top_100books_json)"
   ]
  },
  {
   "cell_type": "markdown",
   "id": "44af94a1-6cb7-4b70-a7a4-fec5011b4fa4",
   "metadata": {},
   "source": [
    "## Create Second Collection - Book Reviews\n",
    "\n",
    "- Read File from Google Drive and Change to JSON if file type is not Json\n",
    "- Obtain Keys in the File\n",
    "- Create collection (Book_Reviews)in the Goodreads_Book_Reviews Database\n",
    "- Define the Schemas for the keys in the document and load document into the collection - Book_Reviews"
   ]
  },
  {
   "cell_type": "code",
   "execution_count": 318,
   "id": "cd7a896f-5167-43f4-a4e4-c08898bce122",
   "metadata": {
    "tags": []
   },
   "outputs": [],
   "source": [
    "url_bookreviews = \"https://drive.google.com/file/d/1SCrhzFD_pouvKb1njckacKsBWdSPMPjB/view?usp=share_link\"\n",
    "fileurl_bookreviews = \"https://drive.google.com/uc?id=\" + url_book1.split('/')[-2]\n",
    "\n",
    "# download file from google drive for easy loading into Python due to large file size preventing google drive from scanning\n",
    "bookReviews = gdown.download(fileurl_bookreviews, 'BookReviews.csv', quiet=True)\n",
    "\n",
    "# load downloaded data into pandas\n",
    "book_reviews = pd.read_csv(bookReviews)"
   ]
  },
  {
   "cell_type": "markdown",
   "id": "298817ef-7154-46d8-8374-af679e7a1976",
   "metadata": {},
   "source": [
    "### data cleaning and transformation"
   ]
  },
  {
   "cell_type": "code",
   "execution_count": 319,
   "id": "cb3d1c17-bcd9-48ca-a488-31089dd8826a",
   "metadata": {},
   "outputs": [
    {
     "data": {
      "text/html": [
       "<div>\n",
       "<style scoped>\n",
       "    .dataframe tbody tr th:only-of-type {\n",
       "        vertical-align: middle;\n",
       "    }\n",
       "\n",
       "    .dataframe tbody tr th {\n",
       "        vertical-align: top;\n",
       "    }\n",
       "\n",
       "    .dataframe thead th {\n",
       "        text-align: right;\n",
       "    }\n",
       "</style>\n",
       "<table border=\"1\" class=\"dataframe\">\n",
       "  <thead>\n",
       "    <tr style=\"text-align: right;\">\n",
       "      <th></th>\n",
       "      <th>User Href</th>\n",
       "      <th>Title</th>\n",
       "      <th>Rating</th>\n",
       "      <th>Date</th>\n",
       "      <th>Likes</th>\n",
       "      <th>Comments</th>\n",
       "      <th>Review</th>\n",
       "      <th>Display Name</th>\n",
       "      <th>User ID</th>\n",
       "      <th>Language</th>\n",
       "    </tr>\n",
       "  </thead>\n",
       "  <tbody>\n",
       "    <tr>\n",
       "      <th>0</th>\n",
       "      <td>https://www.goodreads.com/user/show/45198798-l...</td>\n",
       "      <td>To Kill a Mockingbird</td>\n",
       "      <td>0.2</td>\n",
       "      <td>03-24-2022</td>\n",
       "      <td>964</td>\n",
       "      <td>88</td>\n",
       "      <td>/// gentle reminder that this is not the time ...</td>\n",
       "      <td>leynes</td>\n",
       "      <td>45198798</td>\n",
       "      <td>en</td>\n",
       "    </tr>\n",
       "    <tr>\n",
       "      <th>1</th>\n",
       "      <td>https://www.goodreads.com/user/show/1413439-st...</td>\n",
       "      <td>To Kill a Mockingbird</td>\n",
       "      <td>1.0</td>\n",
       "      <td>05-24-2011</td>\n",
       "      <td>1445</td>\n",
       "      <td>104</td>\n",
       "      <td>6.0 stars. I know I am risking a serious “FILM...</td>\n",
       "      <td>stephen</td>\n",
       "      <td>1413439</td>\n",
       "      <td>en</td>\n",
       "    </tr>\n",
       "  </tbody>\n",
       "</table>\n",
       "</div>"
      ],
      "text/plain": [
       "                                           User Href                  Title  \\\n",
       "0  https://www.goodreads.com/user/show/45198798-l...  To Kill a Mockingbird   \n",
       "1  https://www.goodreads.com/user/show/1413439-st...  To Kill a Mockingbird   \n",
       "\n",
       "   Rating        Date  Likes  Comments  \\\n",
       "0     0.2  03-24-2022    964        88   \n",
       "1     1.0  05-24-2011   1445       104   \n",
       "\n",
       "                                              Review Display Name   User ID  \\\n",
       "0  /// gentle reminder that this is not the time ...       leynes  45198798   \n",
       "1  6.0 stars. I know I am risking a serious “FILM...      stephen   1413439   \n",
       "\n",
       "  Language  \n",
       "0       en  \n",
       "1       en  "
      ]
     },
     "execution_count": 319,
     "metadata": {},
     "output_type": "execute_result"
    }
   ],
   "source": [
    "book_reviews.head(2)"
   ]
  },
  {
   "cell_type": "code",
   "execution_count": 320,
   "id": "937f14a3-cfdb-4bf7-9b69-95ee579579aa",
   "metadata": {},
   "outputs": [
    {
     "data": {
      "text/plain": [
       "Index(['user_href', 'title', 'rating', 'date', 'likes', 'comments', 'review',\n",
       "       'display_name', 'user_id', 'language'],\n",
       "      dtype='object')"
      ]
     },
     "execution_count": 320,
     "metadata": {},
     "output_type": "execute_result"
    }
   ],
   "source": [
    "columns_book_reviews = [i.lower().replace(' ', '_') for i in list(book_reviews.keys())]\n",
    "\n",
    "for i in range(len(columns_book_reviews)):\n",
    "    book_reviews = book_reviews.rename(columns = {book_reviews.columns[i]: columns_book_reviews[i]})\n",
    "\n",
    "book_reviews.columns"
   ]
  },
  {
   "cell_type": "code",
   "execution_count": 321,
   "id": "0c1f016a-49a3-4d47-a36e-93459be3b7ec",
   "metadata": {},
   "outputs": [],
   "source": [
    "def datacleaning(dataframe):\n",
    "    # multiply ratings by 5 to get the actual ratings\n",
    "    dataframe['rating'] = dataframe['rating'].apply(lambda x: int(x * 5))\n",
    "    \n",
    "    return dataframe\n",
    "\n",
    "# update dataframe\n",
    "book_reviews = datacleaning(book_reviews)\n",
    "\n",
    "# transform to json\n",
    "book_reviews_json = json.loads(book_reviews.to_json(orient = 'records'))"
   ]
  },
  {
   "cell_type": "markdown",
   "id": "84bb5394-6391-4588-a2a8-a8e4f578fc8a",
   "metadata": {},
   "source": [
    "### data loading"
   ]
  },
  {
   "cell_type": "code",
   "execution_count": 325,
   "id": "356481a7-94fe-4088-9676-130e40b93e85",
   "metadata": {
    "tags": []
   },
   "outputs": [
    {
     "data": {
      "text/plain": [
       "{'error': False,\n",
       " 'created': 100359,\n",
       " 'errors': 0,\n",
       " 'empty': 0,\n",
       " 'updated': 0,\n",
       " 'ignored': 0,\n",
       " 'details': []}"
      ]
     },
     "execution_count": 325,
     "metadata": {},
     "output_type": "execute_result"
    }
   ],
   "source": [
    "# define schemas for the keys in the json file\n",
    "book_reviews_schema = {\n",
    "    'rule': {\n",
    "        'type': 'object',\n",
    "        'properties': {\n",
    "            'user_href': {'type': ['string', 'null']},\n",
    "            'title': {'type': ['string', 'null']},\n",
    "            'rating': {'type': ['integer', 'null']},\n",
    "            'date' : {'type': ['string', 'null']},\n",
    "            'likes' : {'type': ['integer', 'null']},\n",
    "            'comments' : {'type': ['integer', 'null']},\n",
    "            'review' : {'type': ['string', 'null']},\n",
    "            'display_name': {'type': ['string', 'null']},\n",
    "            'user_id' : {'type': ['integer', 'null']},\n",
    "            'language' : {'type': ['string', 'null']}  \n",
    "        },\n",
    "        'required': ['user_href', 'title', 'rating', 'date', 'likes', 'comments', 'review', 'display_name', 'user_id', 'language']\n",
    "    },\n",
    "    'level': 'moderate',\n",
    "    'message': 'Schema Validation Failed.'\n",
    "}\n",
    "\n",
    "# create collection in the database\n",
    "book_reviews_collection = db.create_collection('Book_Reviews', schema = book_reviews_schema)\n",
    "\n",
    "# import json file into collection - Book_Reviews\n",
    "book_reviews_collection.import_bulk(book_reviews_json)"
   ]
  },
  {
   "cell_type": "markdown",
   "id": "e0a1ec56-4d17-4d96-8db2-41c00d1fe30b",
   "metadata": {},
   "source": [
    "## Create Edge Collection Between Top 100 Books and Book Reviews\n",
    "\n",
    "query for insertion in to edge document:\n",
    "- for each book in the top_100_books collection, filter its reviews in the Book_Reviews collection by matching the book_title field in Top_100_Books to the title field in the Book_Reviews collection. Afterwhich define the connecting edges between both collections using the '._id' field"
   ]
  },
  {
   "cell_type": "code",
   "execution_count": 341,
   "id": "5ac50f75-97b3-4bc4-8f0c-eb9b06867d0c",
   "metadata": {},
   "outputs": [],
   "source": [
    "query = '''\n",
    "FOR book IN Top_100_Books\n",
    "    FOR reviews IN Book_Reviews\n",
    "        FILTER reviews.title == book.book_title\n",
    "        INSERT {\n",
    "            _from: book._id,\n",
    "            _to: reviews._id\n",
    "        } INTO reviews_per_book\n",
    "'''\n",
    "\n",
    "# create edge collection\n",
    "db.create_collection('reviews_per_book', edge=True)\n",
    "cursor = db.aql.execute(query)"
   ]
  }
 ],
 "metadata": {
  "kernelspec": {
   "display_name": "Python [conda env:root] *",
   "language": "python",
   "name": "conda-root-py"
  },
  "language_info": {
   "codemirror_mode": {
    "name": "ipython",
    "version": 3
   },
   "file_extension": ".py",
   "mimetype": "text/x-python",
   "name": "python",
   "nbconvert_exporter": "python",
   "pygments_lexer": "ipython3",
   "version": "3.9.13"
  }
 },
 "nbformat": 4,
 "nbformat_minor": 5
}
