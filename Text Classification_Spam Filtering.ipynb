{
 "cells": [
  {
   "cell_type": "code",
   "execution_count": 1,
   "id": "d38e0f68-dc4a-4016-8b14-b7045dde420b",
   "metadata": {},
   "outputs": [],
   "source": [
    "# import libraries\n",
    "\n",
    "import pandas as pd\n",
    "import numpy as np\n",
    "import matplotlib.pyplot as plt\n",
    "\n",
    "from langdetect import detect\n",
    "from googletrans import Translator\n",
    "import re\n",
    "\n",
    "import nltk\n",
    "from nltk import word_tokenize\n",
    "# nltk.download('averaged_perceptron_tagger')\n",
    "from nltk.stem import WordNetLemmatizer\n",
    "# nltk.download('wordnet')\n",
    "from nltk.corpus import wordnet\n",
    "from nltk.corpus import stopwords\n",
    "\n",
    "from sklearn.feature_extraction.text import TfidfVectorizer\n",
    "from sklearn.model_selection import train_test_split, cross_val_score\n",
    "from sklearn.model_selection import KFold\n",
    "from sklearn.decomposition import PCA\n",
    "\n",
    "from sklearn.svm import SVC\n",
    "from sklearn.linear_model import LogisticRegression\n",
    "from sklearn.metrics import accuracy_score, f1_score, confusion_matrix\n",
    "\n",
    "from sklearn.pipeline import Pipeline\n",
    "from sklearn.preprocessing import FunctionTransformer\n",
    "import joblib"
   ]
  },
  {
   "cell_type": "markdown",
   "id": "f94b75e8-c033-4917-8ff5-d725b953cb9c",
   "metadata": {},
   "source": [
    "Create Function for Tect Cleaning"
   ]
  },
  {
   "cell_type": "code",
   "execution_count": 16,
   "id": "11e40a5e-0f9e-455e-9e65-65d04b7600b0",
   "metadata": {},
   "outputs": [],
   "source": [
    "# Function for Parts of Speech Tagging to Improve Lemmatization output in text_processing function\n",
    "def get_wordnet_pos(pos_tagger):\n",
    "    if pos_tagger.startswith('J'):\n",
    "        return wordnet.ADJ\n",
    "    elif pos_tagger.startswith('V'):\n",
    "        return wordnet.VERB\n",
    "    elif pos_tagger.startswith('N'):\n",
    "        return wordnet.NOUN\n",
    "    elif pos_tagger.startswith('R'):\n",
    "        return wordnet.ADV\n",
    "    else:\n",
    "        return wordnet.NOUN  # Use NOUN as the default tag\n",
    "\n",
    "\n",
    "def text_processing(review):\n",
    "    # translate review to english if detected language is not english\n",
    "    translator = Translator() \n",
    "    if detect(review) != \"en\":\n",
    "        review = translator.translate(review, dest=\"en\").text\n",
    "    \n",
    "    # change all reviews into lower case\n",
    "    review = review.lower()\n",
    "    \n",
    "    #remove all new line and tab character, as well as split words joined with hyphen into two(2)\n",
    "    review = review.replace(\"\\n\", \" \").replace(\"\\t\", \" \").replace(\"-\", \" \").replace(\"show\", \"\")\n",
    "    \n",
    "    #remove all punctuations\n",
    "    review = re.sub(r'[^\\w\\s]', ' ', review)\n",
    "    \n",
    "    # remove stopwords\n",
    "    stop_words = set(stopwords.words('english'))\n",
    "    \n",
    "    #tokenize text\n",
    "    tokens = word_tokenize(review)\n",
    "    tokens = [token for token in tokens if token not in stop_words]\n",
    "    \n",
    "    #parts of speech tagging\n",
    "    pos_tags = nltk.pos_tag(tokens)\n",
    "    \n",
    "    #lemmatize texts\n",
    "    lemmatizer = WordNetLemmatizer()\n",
    "    lemmatized_words = []\n",
    "    for word, pos in pos_tags:\n",
    "        wordnet_tag = get_wordnet_pos(pos)\n",
    "        lem_word = lemmatizer.lemmatize(word, pos=wordnet_tag)\n",
    "        lemmatized_words.append(lem_word)\n",
    "    \n",
    "    processed_review = \" \".join(lemmatized_words)\n",
    "       \n",
    "    return processed_review\n",
    "\n",
    "# build an iterable collection of strings required for TfidfVectorizer for spam_filter_pipeline\n",
    "def text_preprocessing(rev):\n",
    "    # function only takes a string or list, dataframe or series of strings\n",
    "    \n",
    "    # return a list of clean values for string argument. This is because the TfidfVectorizer\n",
    "    list_ = []\n",
    "    \n",
    "    if type(rev) == str:\n",
    "        list_ = [text_processing(rev)]\n",
    "    \n",
    "    else:\n",
    "        list_ = [text_processing(i) for i in rev]\n",
    "    \n",
    "    return list_"
   ]
  },
  {
   "cell_type": "markdown",
   "id": "6922b3d0-63c3-4a44-9d1a-5a677f4e3657",
   "metadata": {},
   "source": [
    "Import file into python"
   ]
  },
  {
   "cell_type": "code",
   "execution_count": 3,
   "id": "abd425f2-93f8-4de4-ac95-6cfaa55ee24a",
   "metadata": {},
   "outputs": [
    {
     "name": "stdout",
     "output_type": "stream",
     "text": [
      "<class 'pandas.core.frame.DataFrame'>\n",
      "RangeIndex: 1110 entries, 0 to 1109\n",
      "Data columns (total 7 columns):\n",
      " #   Column     Non-Null Count  Dtype \n",
      "---  ------     --------------  ----- \n",
      " 0   User Href  1110 non-null   object\n",
      " 1   Title      1110 non-null   object\n",
      " 2   Rating     1110 non-null   object\n",
      " 3   Date       1110 non-null   object\n",
      " 4   Likes      1110 non-null   object\n",
      " 5   Comments   1110 non-null   object\n",
      " 6   Review     1109 non-null   object\n",
      "dtypes: object(7)\n",
      "memory usage: 60.8+ KB\n",
      "None\n",
      "\n",
      "Null_Value Info:\n",
      "User Href    0\n",
      "Title        0\n",
      "Rating       0\n",
      "Date         0\n",
      "Likes        0\n",
      "Comments     0\n",
      "Review       1\n",
      "dtype: int64\n"
     ]
    }
   ],
   "source": [
    "file_path = \"/Users/mobolajishobanke/Desktop/GWU - School/EMSE 6586_Database Mgt/Project/Book1.csv\"\n",
    "\n",
    "book1_data = pd.read_csv(file_path)\n",
    "\n",
    "# check data info:\n",
    "print(f'{book1_data.info()}\\n\\nNull_Value Info:\\n{book1_data.isnull().sum()}')"
   ]
  },
  {
   "cell_type": "code",
   "execution_count": 4,
   "id": "1c9d46b9-ddcd-4c30-a17c-027aae767f60",
   "metadata": {},
   "outputs": [],
   "source": [
    "# remove null values\n",
    "book1_data = book1_data.dropna().reset_index(drop=True)\n",
    "\n",
    "# take sample data for training set\n",
    "sample = book1_data[['Review']].head(n=100)"
   ]
  },
  {
   "cell_type": "markdown",
   "id": "4b5430b6-a0b3-41b2-9e85-148e9138cfa2",
   "metadata": {},
   "source": [
    "Perform Manual labelling of sample reviews to be used for text_classification model"
   ]
  },
  {
   "cell_type": "code",
   "execution_count": 5,
   "id": "0476ebe3-20dd-45b9-8c0f-64fa522ab08d",
   "metadata": {},
   "outputs": [],
   "source": [
    "label = [0, 0, 1, 1, 0, 0, 0, 0, 1, 0, 0, 0, 0, 0, 0, 0, 0, 0, 1, 0, 0, 1, 0, 0, 0, 0, 0, 0, 0, 0, 0, 0, 0,\n",
    "        0, 0, 1, 0, 0, 0, 0, 0, 0, 0, 0, 1, 0, 1, 1, 0, 0, 1, 1, 0, 0, 0, 0, 0, 0, 0, 0, 0, 0, 0, 1, 0, 0, 0,\n",
    "         0, 0, 0, 0, 0, 1, 0, 0, 1, 0, 0, 0, 1, 0, 1, 0, 0, 0, 0, 0, 0, 0, 0, 0, 0, 0, 0, 0, 0, 0, 0, 0, 0\n",
    "        ]\n",
    "\n",
    "# create label columns\n",
    "sample['spam'] = label"
   ]
  },
  {
   "cell_type": "code",
   "execution_count": 9,
   "id": "a3de4fc1-3d5e-4e43-a082-e3a5b2262d06",
   "metadata": {},
   "outputs": [
    {
     "data": {
      "image/png": "[encoded data removed]",
      "text/plain": [
       "<Figure size 640x480 with 1 Axes>"
      ]
     },
     "metadata": {},
     "output_type": "display_data"
    },
    {
     "name": "stdout",
     "output_type": "stream",
     "text": [
      "number of spams in the sample: 16\n",
      "number of not_spams in the sample: 84\n",
      "Probability of Spam: 0.16\n"
     ]
    }
   ],
   "source": [
    "# check distribution of spams and non-spams in the sample dataset\n",
    "sample['spam'].hist()\n",
    "plt.title('Distribution of Spams')\n",
    "plt.show()\n",
    "\n",
    "\n",
    "print(f'number of spams in the sample: {len(sample[sample.spam==1])}')\n",
    "print(f'number of not_spams in the sample: {len(sample[sample.spam==0])}')\n",
    "print(f'Probability of Spam: {len(sample[sample.spam==1])/len(sample)}')"
   ]
  },
  {
   "cell_type": "code",
   "execution_count": 96,
   "id": "9c3317be-dd10-4217-ac11-ca30b2f68b1b",
   "metadata": {},
   "outputs": [],
   "source": [
    "# undersample non_spams to reduce weight bias\n",
    "index_spam = [index for index, value in enumerate(sample.spam) if value==1]\n",
    "index_notspam = [index for index, value in enumerate(sample.spam) if value==0]\n",
    "\n",
    "spam_reviews = sample.loc[index_spam]\n",
    "not_spamreviews = sample.loc[index_notspam].sample(n=20, random_state=42)\n",
    "\n",
    "# new sample dataset\n",
    "underweighted_sample = pd.concat([spam_reviews, not_spamreviews], axis=0).sample(frac=1, ignore_index=True, random_state=42)"
   ]
  },
  {
   "cell_type": "markdown",
   "id": "56044ae4-3804-48bb-91b7-b95670a3d899",
   "metadata": {},
   "source": [
    "## Model Build"
   ]
  },
  {
   "cell_type": "code",
   "execution_count": 97,
   "id": "1df887a0-aa05-4a6d-9dab-b8a0a4f65638",
   "metadata": {},
   "outputs": [],
   "source": [
    "# collect reviews\n",
    "reviews = underweighted_sample['Review']\n",
    "\n",
    "# collect corresponding labels\n",
    "spam = underweighted_sample['spam']"
   ]
  },
  {
   "cell_type": "markdown",
   "id": "dbc7eece-bab1-40a8-99d6-7a830fe70913",
   "metadata": {},
   "source": [
    "Clean and Vectorize Reviews"
   ]
  },
  {
   "cell_type": "code",
   "execution_count": 98,
   "id": "00ea926f-c211-4fe8-aa8b-60ba53079d7d",
   "metadata": {},
   "outputs": [],
   "source": [
    "reviews_clean = reviews.apply(lambda x: text_processing(x))\n",
    "\n",
    "# create vectorizer object\n",
    "vectorizer = TfidfVectorizer()\n",
    "\n",
    "# vectorize cleaned review\n",
    "review_vec = vectorizer.fit_transform(reviews_clean)"
   ]
  },
  {
   "cell_type": "markdown",
   "id": "4ab7421f-5512-4e46-a29b-f2aaf3c0dfcc",
   "metadata": {},
   "source": [
    "Define Models to be used for task"
   ]
  },
  {
   "cell_type": "code",
   "execution_count": 99,
   "id": "65d2c91f-8cbd-41da-8271-feed2248f377",
   "metadata": {},
   "outputs": [],
   "source": [
    "# Logistic Regression\n",
    "lr = LogisticRegression(class_weight = 'balanced')\n",
    "\n",
    "# Support Vector Classifier\n",
    "svc = SVC(kernel = 'sigmoid', class_weight = 'balanced', probability=True)"
   ]
  },
  {
   "cell_type": "markdown",
   "id": "23f9839a-a520-441f-940d-91059902b24c",
   "metadata": {},
   "source": [
    "Check Performance of Both Classifiers"
   ]
  },
  {
   "cell_type": "markdown",
   "id": "fb00aabf-6e36-4fae-b9d5-afd72e99801b",
   "metadata": {},
   "source": [
    "Select best model using KFold and Cross_Validation\n",
    "\n",
    "total size of underwighted sample = 36\n",
    "\n",
    "number of Fold = 5 (such that train_set = 4 out 5 = 80%)"
   ]
  },
  {
   "cell_type": "code",
   "execution_count": 101,
   "id": "b6e56c1f-4469-4d31-b5b7-ee1e1b7689b3",
   "metadata": {},
   "outputs": [
    {
     "name": "stdout",
     "output_type": "stream",
     "text": [
      "score for LogisticRegression: \n",
      "[0.66666667 0.4        0.5        1.         0.66666667]\n",
      "mean_score for logisticRegression: 0.6466666666666666\n",
      "\n",
      "score for SVC: \n",
      "[0.85714286 0.66666667 0.5        1.         0.5       ]\n",
      "mean_score for SVC: 0.7047619047619047\n"
     ]
    }
   ],
   "source": [
    "score_lr = cross_val_score(lr, review_vec, spam, scoring='f1', cv=5)\n",
    "score_svc = cross_val_score(svc, review_vec, spam, scoring='f1', cv=5)\n",
    "\n",
    "print('score for LogisticRegression: \\n{}'.format(score_lr))\n",
    "print('mean_score for logisticRegression: {}\\n'.format(score_lr.mean()))\n",
    "print('score for SVC: \\n{}'.format(score_svc))\n",
    "print('mean_score for SVC: {}'.format(score_svc.mean()))"
   ]
  },
  {
   "cell_type": "code",
   "execution_count": 102,
   "id": "c80b8a41-368a-49ac-ad8b-69bdbb186faa",
   "metadata": {},
   "outputs": [
    {
     "name": "stdout",
     "output_type": "stream",
     "text": [
      "f1_score for LogisticRegression:\n",
      "[0.28571428571428575, 0.3333333333333333, 0.0, 0.8571428571428571, 0.6666666666666666]\n",
      "\n",
      "f1_score for SVC:\n",
      "[0.5, 0.3333333333333333, 0.0, 0.75, 0.6666666666666666]\n"
     ]
    }
   ],
   "source": [
    "# select best model using KFold\n",
    "kfold = KFold(n_splits=5, shuffle=True, random_state=42)\n",
    "\n",
    "# save performance metrics for logistic regression\n",
    "model_lr = []\n",
    "f1_score_lr = []\n",
    "confusion_matrix_lr = []\n",
    "\n",
    "# save performance metrics for SVC\n",
    "model_svc = []\n",
    "f1_score_svc = []\n",
    "confusion_matrix_svc = []\n",
    "\n",
    "for i, (train_data, test_data) in enumerate(kfold.split(underweighted_sample)):\n",
    "    # split the data into train_test_split\n",
    "    x_train, y_train = review_vec[train_data], spam[train_data]\n",
    "    x_test, y_test = review_vec[test_data], spam[test_data]\n",
    "    \n",
    "    # fit both classififiers\n",
    "    lr.fit(x_train, y_train)\n",
    "    svc.fit(x_train, y_train)\n",
    "    \n",
    "    #save models for both classifier\n",
    "    model_lr.append(lr)\n",
    "    model_svc.append(svc)\n",
    "    \n",
    "    # predict test set\n",
    "    spam_pred_lr = lr.predict(x_test)\n",
    "    spam_pred_svc = svc.predict(x_test)\n",
    "    \n",
    "    # save f1_score for both models\n",
    "    f1_score_lr.append(f1_score(y_test, spam_pred_lr))\n",
    "    f1_score_svc.append(f1_score(y_test, spam_pred_svc))\n",
    "    \n",
    "    # confusion matrix for both models\n",
    "    confusion_matrix_lr.append(confusion_matrix(y_test, spam_pred_lr))\n",
    "    confusion_matrix_svc.append(confusion_matrix(y_test, spam_pred_svc))\n",
    "    \n",
    "print(\"f1_score for LogisticRegression:\\n{}\\n\".format(f1_score_lr))\n",
    "print(\"f1_score for SVC:\\n{}\".format(f1_score_svc))"
   ]
  },
  {
   "cell_type": "markdown",
   "id": "eee38181-3700-4a01-a9e0-763a685bd29d",
   "metadata": {},
   "source": [
    "Check for Overfitting in the models using cross_val_score"
   ]
  },
  {
   "cell_type": "code",
   "execution_count": 106,
   "id": "ec1afe12-d98b-4c53-9bee-2ebfd740d1c4",
   "metadata": {},
   "outputs": [
    {
     "data": {
      "text/plain": [
       "(0.42857142857142855, 0.45)"
      ]
     },
     "execution_count": 106,
     "metadata": {},
     "output_type": "execute_result"
    }
   ],
   "source": [
    "mean_f1_score_lr = np.mean(f1_score_lr)\n",
    "mean_f1_score_svc = np.mean(f1_score_svc)\n",
    "\n",
    "mean_f1_score_lr, mean_f1_score_svc"
   ]
  },
  {
   "cell_type": "markdown",
   "id": "6a9fb72b-fb56-4f65-b8b8-92cdea492cc4",
   "metadata": {},
   "source": [
    "Curse of Dimensionality\n",
    "\n",
    "- Reduce Dimensionality using PCA of Review Vectors to Reduce Potential Overfitting"
   ]
  },
  {
   "cell_type": "code",
   "execution_count": 109,
   "id": "ae378205-8a81-4838-a9bc-33b33f5e4dcf",
   "metadata": {},
   "outputs": [],
   "source": [
    "# create PCA object\n",
    "pca = PCA()\n",
    "\n",
    "# determine the number of components - # fit the pca\n",
    "pca.fit(review_vec.toarray())\n",
    "\n",
    "# obtain eigenvalue\n",
    "explained_variance = pca.explained_variance_"
   ]
  },
  {
   "cell_type": "markdown",
   "id": "eeb0fdd5-9cb3-4b23-a2db-db6f62028ede",
   "metadata": {},
   "source": [
    "Plot Screeplot"
   ]
  },
  {
   "cell_type": "code",
   "execution_count": 118,
   "id": "221d0833-2b57-4963-999c-0c3e450d05cc",
   "metadata": {},
   "outputs": [
    {
     "name": "stdout",
     "output_type": "stream",
     "text": [
      "Mean EigenValue: 0.024662143868574134\n",
      "Maximum EigenValue: 0.05401915799695827\n"
     ]
    },
    {
     "data": {
      "image/png": "[encoded data removed]",
      "text/plain": [
       "<Figure size 640x480 with 1 Axes>"
      ]
     },
     "metadata": {},
     "output_type": "display_data"
    }
   ],
   "source": [
    "# plot screeplot\n",
    "plt.plot(explained_variance, marker='o')\n",
    "plt.xlabel(\"Eigenvalue number\")\n",
    "plt.ylabel(\"Eigenvalue size\")\n",
    "plt.title(\"Scree Plot\")\n",
    "\n",
    "print(\"Mean EigenValue: {}\".format(explained_variance.mean()))\n",
    "print(\"Maximum EigenValue: {}\".format(max(explained_variance)))"
   ]
  },
  {
   "cell_type": "markdown",
   "id": "6bbc4de3-4e61-4e79-8cbf-bd53d9ff8c0f",
   "metadata": {},
   "source": [
    "Maximum EigenValue < 1. Therefore Kaiser Rule can't be used\n",
    "\n",
    "Use number of principal components that explain 90% of the variance in the dataset"
   ]
  },
  {
   "cell_type": "code",
   "execution_count": 121,
   "id": "dae56fe3-290d-45b4-b504-623eac10cbce",
   "metadata": {},
   "outputs": [],
   "source": [
    "# find cumulative variance rato\n",
    "cumulative_var_ratio = np.cumsum(pca.explained_variance_ratio_)\n",
    "\n",
    "# find the number of components needed to explain at least 95% of the variance\n",
    "n_component = np.argmax(cumulative_var_ratio >= 0.95) + 1\n",
    "\n",
    "pca = PCA(n_components = n_component)\n",
    "\n",
    "dimen_red_review_vec = pca.fit_transform(review_vec.toarray())\n",
    "\n",
    "score_lr_pca = cross_val_score(lr, dimen_red_review_vec, spam, scoring='f1', cv=5)\n",
    "score_svc_pca = cross_val_score(svc, dimen_red_review_vec, spam, scoring='f1', cv=5)"
   ]
  },
  {
   "cell_type": "code",
   "execution_count": 124,
   "id": "91c76dc0-d982-4755-b241-317b1f9de641",
   "metadata": {},
   "outputs": [
    {
     "data": {
      "text/plain": [
       "(0.7, 0.680952380952381)"
      ]
     },
     "execution_count": 124,
     "metadata": {},
     "output_type": "execute_result"
    }
   ],
   "source": [
    "score_lr_pca.mean(), score_svc_pca.mean()"
   ]
  },
  {
   "cell_type": "markdown",
   "id": "d65a9920-c690-43ab-97fb-2ec52d2fa94a",
   "metadata": {},
   "source": [
    "Conclusion:\n",
    "\n",
    "- F1_score for Logistic Regression Increased\n",
    "- F1_score for SVC reduced slightly"
   ]
  },
  {
   "cell_type": "code",
   "execution_count": null,
   "id": "79edf144-ac5f-4870-9b40-cbde742bec09",
   "metadata": {},
   "outputs": [
    {
     "data": {
      "text/plain": [
       "array([0.66666667, 0.66666667, 0.5       , 1.        , 0.57142857])"
      ]
     },
     "execution_count": 128,
     "metadata": {},
     "output_type": "execute_result"
    }
   ],
   "source": [
    "score_svc_pca"
   ]
  }
 ],
 "metadata": {
  "kernelspec": {
   "display_name": "Python 3 (ipykernel)",
   "language": "python",
   "name": "python3"
  },
  "language_info": {
   "codemirror_mode": {
    "name": "ipython",
    "version": 3
   },
   "file_extension": ".py",
   "mimetype": "text/x-python",
   "name": "python",
   "nbconvert_exporter": "python",
   "pygments_lexer": "ipython3",
   "version": "3.9.13"
  }
 },
 "nbformat": 4,
 "nbformat_minor": 5
}
