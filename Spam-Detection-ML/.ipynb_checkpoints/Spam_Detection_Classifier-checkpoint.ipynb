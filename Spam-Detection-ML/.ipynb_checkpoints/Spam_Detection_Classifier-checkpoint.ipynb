{
 "cells": [
  {
   "cell_type": "code",
   "execution_count": 1,
   "id": "db9a47e6-b76c-4dd6-8cf2-753d9a2cf4f2",
   "metadata": {},
   "outputs": [],
   "source": [
    "#importing libraries\n",
    "import pandas as pd\n",
    "import numpy as np\n",
    "import matplotlib.pyplot as plt\n",
    "import random\n",
    "\n",
    "#import language detector\n",
    "from langdetect import detect\n",
    "from googletrans import Translator\n",
    "import re\n",
    "\n",
    "# import libraries for text analysis\n",
    "import nltk\n",
    "from nltk import word_tokenize\n",
    "# nltk.download('averaged_perceptron_tagger')\n",
    "from nltk.stem import WordNetLemmatizer\n",
    "# nltk.download('wordnet')\n",
    "from nltk.corpus import wordnet\n",
    "from nltk.corpus import stopwords\n",
    "\n",
    "# import ml libraries\n",
    "from sklearn.feature_extraction.text import TfidfVectorizer\n",
    "from sklearn.model_selection import train_test_split, cross_val_score, KFold\n",
    "from sklearn.svm import SVC\n",
    "from sklearn.decomposition import PCA\n",
    "from sklearn.metrics import brier_score_loss\n",
    "from sklearn.semi_supervised import SelfTrainingClassifier\n",
    "from sklearn.metrics import accuracy_score, f1_score, confusion_matrix\n",
    "from sklearn.pipeline import make_pipeline\n",
    "from sklearn.preprocessing import FunctionTransformer\n",
    "\n",
    "# import joblib to save ML Model\n",
    "import joblib"
   ]
  },
  {
   "cell_type": "markdown",
   "id": "0d4d4cda-6e88-4126-b121-ef0073c150f8",
   "metadata": {
    "tags": []
   },
   "source": [
    "## Build Functions for Text Processing"
   ]
  },
  {
   "cell_type": "code",
   "execution_count": 15,
   "id": "f3681b49-a323-4b4e-a62a-366fb2c13944",
   "metadata": {},
   "outputs": [],
   "source": [
    "# text preprocessing\n",
    "\n",
    "# create function for text cleaning\n",
    "\n",
    "# parts of speech tagging\n",
    "def get_wordnet_pos(pos_tagger):\n",
    "    if pos_tagger.startswith('J'):\n",
    "        return wordnet.ADJ\n",
    "    elif pos_tagger.startswith('V'):\n",
    "        return wordnet.VERB\n",
    "    elif pos_tagger.startswith('N'):\n",
    "        return wordnet.NOUN\n",
    "    elif pos_tagger.startswith('R'):\n",
    "        return wordnet.ADV\n",
    "    else:\n",
    "        return wordnet.NOUN  # Use NOUN as the default tag\n",
    "\n",
    "\n",
    "def text_processing(review):\n",
    "    translator = Translator()\n",
    "    if detect(review) != \"en\":\n",
    "        review = translator.translate(review, dest=\"en\").text\n",
    "    \n",
    "    # change all reviews into lower case\n",
    "    review = review.lower()\n",
    "    \n",
    "    #remove all new line and tab character, as well as split words joined with hyphen into two(2)\n",
    "    review = review.replace(\"\\n\", \" \").replace(\"\\t\", \" \").replace(\"-\", \" \").replace(\"show\", \"\")\n",
    "    \n",
    "    #remove all punctuations\n",
    "    review = re.sub(r'[^\\w\\s]', ' ', review)\n",
    "    \n",
    "    # remove stopwords\n",
    "    stop_words = set(stopwords.words('english'))\n",
    "    \n",
    "    #tokenize text\n",
    "    tokens = word_tokenize(review)\n",
    "    tokens = [token for token in tokens if token not in stop_words]\n",
    "    \n",
    "    #parts of speech tagging\n",
    "    pos_tags = nltk.pos_tag(tokens)\n",
    "    \n",
    "    #lemmatize texts\n",
    "    lemmatizer = WordNetLemmatizer()\n",
    "    lemmatized_words = []\n",
    "    for word, pos in pos_tags:\n",
    "        wordnet_tag = get_wordnet_pos(pos)\n",
    "        lem_word = lemmatizer.lemmatize(word, pos=wordnet_tag)\n",
    "        lemmatized_words.append(lem_word)\n",
    "    \n",
    "    processed_review = \" \".join(lemmatized_words)\n",
    "       \n",
    "    return processed_review\n",
    "\n",
    "# build an iterable collection of strings required for TfidfVectorizer in spam_detector_pipeline\n",
    "def text_preprocessing(rev):\n",
    "    # function only takes a string or list, dataframe or series of strings\n",
    "    \n",
    "    # return a list of clean values for string argument. This is because the TfidfVectorizer\n",
    "    list_ = []\n",
    "    \n",
    "    if type(rev) == str:\n",
    "        list_ = [text_processing(rev)]\n",
    "    \n",
    "    else:\n",
    "        list_ = [text_processing(i) for i in rev]\n",
    "    \n",
    "    return list_"
   ]
  },
  {
   "cell_type": "markdown",
   "id": "575d7641-32ee-46cd-9de6-bd3c414ef6e1",
   "metadata": {
    "tags": []
   },
   "source": [
    "## Perform Manual Labelling\n",
    "- Select 30 reviews from 3 books for manual labelling"
   ]
  },
  {
   "cell_type": "markdown",
   "id": "1eb79e39-60ac-43d6-8b15-ed0fd4ce1a0b",
   "metadata": {},
   "source": [
    "### Book 1"
   ]
  },
  {
   "cell_type": "code",
   "execution_count": 3,
   "id": "1cef6aa3-4fc2-4e53-974d-83f47fffd41a",
   "metadata": {},
   "outputs": [],
   "source": [
    "url_book1 = \"https://drive.google.com/file/d/1av14zclHw6vxzKlK9y9wf7jFHxK7ZhzO/view?usp=share_link\"\n",
    "file_path_book1 = \"https://drive.google.com/uc?id=\" + url_book1.split('/')[-2]\n",
    "book1 = pd.read_csv(file_path_book1).head(30)"
   ]
  },
  {
   "cell_type": "code",
   "execution_count": 4,
   "id": "cf74119f-ea0e-4df7-bb2a-c7bb9d8facc8",
   "metadata": {},
   "outputs": [],
   "source": [
    "# manual labelling for book 1\n",
    "label_book1 = [0, 0, 1, 1, 0, 0, 0, 0, 0, 0, 0, 0, 0, 0, 0, 0, 0, 0, 0, 1, 0, 0, 0, 0, 0, 0, 0, 0, 0, 0]\n",
    "book1['spam'] = label_book1\n",
    "\n",
    "df_1 = book1[['Review', 'spam']]"
   ]
  },
  {
   "cell_type": "markdown",
   "id": "d237f212-f166-49d6-8307-ca81ba62dfe6",
   "metadata": {},
   "source": [
    "### Book 2"
   ]
  },
  {
   "cell_type": "code",
   "execution_count": 5,
   "id": "518521cf-f467-4e18-99ab-d141445f382b",
   "metadata": {},
   "outputs": [],
   "source": [
    "url_book2 = \"https://drive.google.com/file/d/14t71wvJDq0AIhIKBmc6OG6BhgRxZJCFC/view?usp=share_link\"\n",
    "file_path_book2 = \"https://drive.google.com/uc?id=\" + url_book2.split('/')[-2]\n",
    "book2 = pd.read_csv(file_path_book2).head(30)"
   ]
  },
  {
   "cell_type": "code",
   "execution_count": 6,
   "id": "1725e093-beb4-411a-9dfb-8a4e00534ce1",
   "metadata": {},
   "outputs": [],
   "source": [
    "# remove reviews that couldn't be translated using google translator api\n",
    "index_ = [8, 9, 24]\n",
    "book2.drop(index_, axis = 0, inplace=True)\n",
    "\n",
    "# labels\n",
    "label_book2 = [0, 0, 0, 1, 0, 0, 0, 0, 0, 0, 1, 0, 0, 0, 1, 0, 1, 1, 0, 1, 0, 1, 1, 0, 0, 0, 1]\n",
    "book2[\"spam\"] = label_book2\n",
    "\n",
    "df_2 = book2[['Review', 'spam']]"
   ]
  },
  {
   "cell_type": "markdown",
   "id": "780db29e-1467-4aab-953c-7238fc5e3619",
   "metadata": {},
   "source": [
    "### Book 3"
   ]
  },
  {
   "cell_type": "code",
   "execution_count": 7,
   "id": "0a7be933-8bb6-4dbf-853c-42da5118e127",
   "metadata": {},
   "outputs": [],
   "source": [
    "url_book3 = \"https://drive.google.com/file/d/19pqmhEu-aIa5cjMfYkCjtpdSCWgfhm1z/view?usp=share_link\"\n",
    "file_path_book3 = \"https://drive.google.com/uc?id=\" + url_book3.split('/')[-2]\n",
    "book3 = pd.read_csv(file_path_book3).head(30)"
   ]
  },
  {
   "cell_type": "code",
   "execution_count": 8,
   "id": "bbcee139-22bb-4d99-a1fc-dea123ce0065",
   "metadata": {},
   "outputs": [],
   "source": [
    "label_book3 = [0, 1, 0, 1, 0, 1, 1, 0, 1, 0, 0, 0, 0, 0, 0, 0, 0, 0, 0, 1, 0, 0, 0, 0, 0, 1, 1, 1, 0, 0]\n",
    "book3[\"spam\"] = label_book3\n",
    "\n",
    "df_3 = book3[['Review', 'spam']]"
   ]
  },
  {
   "cell_type": "markdown",
   "id": "8977d222-9486-438e-9af1-fdac32e75a1d",
   "metadata": {},
   "source": [
    "### sample data"
   ]
  },
  {
   "cell_type": "code",
   "execution_count": 9,
   "id": "f1a30de1-05c1-4b89-9d97-5429ffbbcae2",
   "metadata": {},
   "outputs": [
    {
     "data": {
      "image/png": "[encoded data removed]",
      "text/plain": [
       "<Figure size 640x480 with 1 Axes>"
      ]
     },
     "metadata": {},
     "output_type": "display_data"
    }
   ],
   "source": [
    "sample_data = pd.concat([df_1, df_2, df_3], axis = 0).sample(frac=1, random_state = 42)\n",
    "\n",
    "# plot histogram to see distribution of review labels\n",
    "sample_data.hist()\n",
    "plt.title('Frequency Distribution of Labes (Actual_Reviews and Spams)')\n",
    "plt.show()"
   ]
  },
  {
   "cell_type": "markdown",
   "id": "bff007ec-672b-45f6-99ef-bdef0bcf4878",
   "metadata": {
    "tags": []
   },
   "source": [
    "## Analysis"
   ]
  },
  {
   "cell_type": "code",
   "execution_count": 10,
   "id": "8bc7d871-d0e7-4989-ba36-8304d2a303fc",
   "metadata": {
    "tags": []
   },
   "outputs": [
    {
     "data": {
      "text/plain": [
       "(86, 6067)"
      ]
     },
     "execution_count": 10,
     "metadata": {},
     "output_type": "execute_result"
    }
   ],
   "source": [
    "# drop na values in sample_data\n",
    "sample_data.dropna(axis=0, inplace=True)\n",
    "\n",
    "reviews = sample_data['Review']\n",
    "label = sample_data['spam']\n",
    "\n",
    "# clean_reviews\n",
    "reviews_clean = reviews.apply(lambda x: text_processing(x))\n",
    "\n",
    "# vectorize clean_reviews\n",
    "vectorizer_ = TfidfVectorizer()\n",
    "reviews_vector = vectorizer_.fit_transform(reviews_clean)\n",
    "reviews_vector.shape"
   ]
  },
  {
   "cell_type": "markdown",
   "id": "d65d8232-996f-40e2-a741-4e6a89a50ca3",
   "metadata": {
    "tags": []
   },
   "source": [
    "### Carry out dimensionality reduction using PCA to avoid overfitting"
   ]
  },
  {
   "cell_type": "code",
   "execution_count": 11,
   "id": "050bff3d-2dae-4080-b06f-eed91d9398b5",
   "metadata": {},
   "outputs": [],
   "source": [
    "# create pca object\n",
    "pca_ = PCA()\n",
    "\n",
    "# determine the number of components to retain- # fit the pca\n",
    "pca_.fit(reviews_vector.toarray())\n",
    "\n",
    "# obtain eigenvalue\n",
    "explained_variance = pca_.explained_variance_"
   ]
  },
  {
   "cell_type": "markdown",
   "id": "170517a4-2374-4502-8426-ba6979cd2b38",
   "metadata": {},
   "source": [
    "**Plot Screeplot**"
   ]
  },
  {
   "cell_type": "code",
   "execution_count": 12,
   "id": "dbccb15e-dbc8-4b74-86fa-dd52796f8591",
   "metadata": {},
   "outputs": [
    {
     "name": "stdout",
     "output_type": "stream",
     "text": [
      "Mean EigenValue: 0.011\n",
      "Maximum EigenValue: 0.030\n"
     ]
    },
    {
     "data": {
      "image/png": "[encoded data removed]",
      "text/plain": [
       "<Figure size 640x480 with 1 Axes>"
      ]
     },
     "metadata": {},
     "output_type": "display_data"
    }
   ],
   "source": [
    "plt.plot(explained_variance, marker='o')\n",
    "plt.xlabel(\"Eigenvalue number\")\n",
    "plt.ylabel(\"Eigenvalue size\")\n",
    "plt.title(\"Scree Plot\")\n",
    "\n",
    "print(\"Mean EigenValue: {:.3f}\".format(explained_variance.mean()))\n",
    "print(\"Maximum EigenValue: {:.3f}\".format(max(explained_variance)))"
   ]
  },
  {
   "cell_type": "markdown",
   "id": "095b625e-2e59-4c96-a14e-5854e616c6b6",
   "metadata": {},
   "source": [
    "**Maximum EigenValue < 1. Therefore Kaiser Rule can't be used**\n",
    "\n",
    "Use number of principal components that explain 95% of the variance in the dataset"
   ]
  },
  {
   "cell_type": "code",
   "execution_count": 13,
   "id": "c5526457-f04e-41e3-9aae-a2646d428ebc",
   "metadata": {
    "tags": []
   },
   "outputs": [
    {
     "name": "stdout",
     "output_type": "stream",
     "text": [
      "Number of Components to Retain: PCA(n_components=78)\n",
      "\n"
     ]
    },
    {
     "data": {
      "image/png": "[encoded data removed]",
      "text/plain": [
       "<Figure size 640x480 with 1 Axes>"
      ]
     },
     "metadata": {},
     "output_type": "display_data"
    }
   ],
   "source": [
    "# find cumulative variance rato\n",
    "cumulative_var_ratio = np.cumsum(pca_.explained_variance_ratio_)\n",
    "\n",
    "# find the number of components needed to explain at least 95% of the variance\n",
    "n_component = np.argmax(cumulative_var_ratio >= 0.95) + 1\n",
    "\n",
    "pca_ = PCA(n_components = n_component)\n",
    "\n",
    "# show result\n",
    "print('Number of Components to Retain: {}\\n'.format(pca_))\n",
    "\n",
    "percentage_var_explained = 0.95 # Threshold of explained variance\n",
    "n = np.min(reviews_vector.shape)\n",
    "\n",
    "n_components = np.arange(0, n)\n",
    "\n",
    "plt.plot(n_components, cumulative_var_ratio, marker='o')\n",
    "plt.axhline(percentage_var_explained, color='g', linestyle='--')\n",
    "plt.grid()\n",
    "plt.xlabel('Number of Components')\n",
    "plt.ylabel('Cumulative Explained Variance Ratio')\n",
    "plt.show()"
   ]
  },
  {
   "cell_type": "markdown",
   "id": "d3bb54f4-7bdd-477d-a692-fae42a294f6c",
   "metadata": {
    "tags": []
   },
   "source": [
    "### ML Model Build - Supervised Learning"
   ]
  },
  {
   "cell_type": "code",
   "execution_count": 14,
   "id": "b718aa82-b5d1-42bb-b005-02dccc8a988e",
   "metadata": {},
   "outputs": [
    {
     "name": "stdout",
     "output_type": "stream",
     "text": [
      "Model Performance in terms of Accuracy_Score: 0.80\n",
      "Accuracy for each Split: \n",
      "[0.72222222 0.88235294 0.88235294 0.76470588 0.76470588]\n",
      "\n",
      "Model Performance in terms of F1_Score: 0.27\n",
      "f1_score for each Split: \n",
      "[0.         0.66666667 0.66666667 0.         0.        ]\n"
     ]
    }
   ],
   "source": [
    "# dimensionality reduction\n",
    "features = pca_.fit_transform(reviews_vector.toarray())\n",
    "\n",
    "# check new dimension of features (reviews_vector)\n",
    "features.shape\n",
    "\n",
    "# create svc object\n",
    "svc = SVC(kernel = 'linear', class_weight = 'balanced', probability = True)\n",
    "\n",
    "# checking model performance using cross_val_score\n",
    "performance_accuracy = cross_val_score(svc, features, label, scoring = 'accuracy', cv=5)\n",
    "performance_f1 = cross_val_score(svc, features, label, scoring = 'f1', cv=5)\n",
    "\n",
    "# print results:\n",
    "print('Model Performance in terms of Accuracy_Score: {:.2f}'.format(performance_accuracy.mean()))\n",
    "print('Accuracy for each Split: \\n{}\\n'.format(performance_accuracy))\n",
    "print('Model Performance in terms of F1_Score: {:.2f}'.format(performance_f1.mean()))\n",
    "print('f1_score for each Split: \\n{}'.format(performance_f1))"
   ]
  },
  {
   "cell_type": "markdown",
   "id": "7f3da1d2-5c55-47c4-9e77-11b865163fe4",
   "metadata": {},
   "source": [
    "#### Check Model Calibration"
   ]
  },
  {
   "cell_type": "code",
   "execution_count": 523,
   "id": "86ddf009-716a-49a2-b8e1-b8f46a4489b1",
   "metadata": {
    "tags": []
   },
   "outputs": [
    {
     "data": {
      "text/html": [
       "<div>\n",
       "<style scoped>\n",
       "    .dataframe tbody tr th:only-of-type {\n",
       "        vertical-align: middle;\n",
       "    }\n",
       "\n",
       "    .dataframe tbody tr th {\n",
       "        vertical-align: top;\n",
       "    }\n",
       "\n",
       "    .dataframe thead th {\n",
       "        text-align: right;\n",
       "    }\n",
       "</style>\n",
       "<table border=\"1\" class=\"dataframe\">\n",
       "  <thead>\n",
       "    <tr style=\"text-align: right;\">\n",
       "      <th></th>\n",
       "      <th>label</th>\n",
       "      <th>y_train</th>\n",
       "      <th>y_test</th>\n",
       "    </tr>\n",
       "  </thead>\n",
       "  <tbody>\n",
       "    <tr>\n",
       "      <th>0</th>\n",
       "      <td>0.24</td>\n",
       "      <td>0.25</td>\n",
       "      <td>0.23</td>\n",
       "    </tr>\n",
       "  </tbody>\n",
       "</table>\n",
       "</div>"
      ],
      "text/plain": [
       "   label  y_train  y_test\n",
       "0   0.24     0.25    0.23"
      ]
     },
     "execution_count": 523,
     "metadata": {},
     "output_type": "execute_result"
    }
   ],
   "source": [
    "# split data into train set and test set\n",
    "x_train, x_test, y_train, y_test = train_test_split(features, label, test_size = 0.3, shuffle=True, random_state=42, stratify=label)\n",
    "\n",
    "# check fequency distribution of labels each stored variable\n",
    "def frequency_check(data):\n",
    "    class_count = np.bincount(data)\n",
    "    freq_check = class_count[1]/np.sum(class_count)\n",
    "    return freq_check\n",
    "\n",
    "frq_check = pd.DataFrame([round(frequency_check(label),2), round(frequency_check(y_train), 2), round(frequency_check(y_test), 2)],\n",
    "                       index = ['label', 'y_train', 'y_test']).transpose()\n",
    "\n",
    "frq_check"
   ]
  },
  {
   "cell_type": "markdown",
   "id": "c95aa278-4dcb-4a32-a7ff-5550a34b5c7d",
   "metadata": {},
   "source": [
    "#### Model Fit and Prediction for Brier Score Determination"
   ]
  },
  {
   "cell_type": "code",
   "execution_count": 524,
   "id": "227f4665-19c3-44a8-b7bd-7b3c7ed2217b",
   "metadata": {},
   "outputs": [
    {
     "name": "stdout",
     "output_type": "stream",
     "text": [
      "Brier Score for the SVC: 0.178\n"
     ]
    }
   ],
   "source": [
    "model = svc.fit(x_train, y_train)\n",
    "\n",
    "spam_pred_probability = model.predict_proba(x_test)\n",
    "\n",
    "# calibration check using brier_score_loss\n",
    "brier_score = brier_score_loss(y_test, spam_pred_probability[:, 1])\n",
    "\n",
    "# print result\n",
    "print('Brier Score for the SVC: {:.3f}'.format(brier_score))"
   ]
  },
  {
   "cell_type": "markdown",
   "id": "eed0d05a-2f84-4487-80e2-71acb3f9ae1f",
   "metadata": {},
   "source": [
    "Observation: \n",
    "- Brier score close to zero, indicating good caliberation of predicted probabilities and may be indicative of true probabilities of each class"
   ]
  },
  {
   "cell_type": "markdown",
   "id": "2aa297c6-c8e1-49e4-be83-eb27a6280a98",
   "metadata": {},
   "source": [
    "### Semi-supervised learning\n",
    "- Build semi-supervised classifier from supervised classifier"
   ]
  },
  {
   "cell_type": "code",
   "execution_count": 525,
   "id": "3c93a0d3-26de-4d95-bca2-465ee2a3b86b",
   "metadata": {
    "tags": []
   },
   "outputs": [
    {
     "name": "stdout",
     "output_type": "stream",
     "text": [
      "Percentage of Unlabeled Data: 0.5\n"
     ]
    },
    {
     "name": "stderr",
     "output_type": "stream",
     "text": [
      "/var/folders/l0/vl1htxz9567gndxkbh7r1ld40000gn/T/ipykernel_14252/3769862873.py:10: SettingWithCopyWarning: \n",
      "A value is trying to be set on a copy of a slice from a DataFrame\n",
      "\n",
      "See the caveats in the documentation: https://pandas.pydata.org/pandas-docs/stable/user_guide/indexing.html#returning-a-view-versus-a-copy\n",
      "  label_[unlableled_datapoints] = -1\n"
     ]
    }
   ],
   "source": [
    "# create copy of sample_data to be used to test model accuracy\n",
    "sample_copy = sample_data.copy()\n",
    "\n",
    "feature = pca_.transform(vectorizer_.transform(text_preprocessing(sample_copy['Review'])).toarray())\n",
    "label_ = sample_copy['spam']\n",
    "\n",
    "# randomize label to create a set of unlabeled data\n",
    "rng = np.random.RandomState(42)\n",
    "unlableled_datapoints = rng.rand(label_.shape[0]) < 0.3\n",
    "label_[unlableled_datapoints] = -1\n",
    "\n",
    "# check label distribution\n",
    "num_unlabeled_data = list(label_.value_counts())[0]/np.sum(list(label_.value_counts()))\n",
    "print('Percentage of Unlabeled Data: {}'.format(round(num_unlabeled_data, 3)))"
   ]
  },
  {
   "cell_type": "code",
   "execution_count": 526,
   "id": "6b31f6bb-fe5a-4a13-a939-702f34773364",
   "metadata": {},
   "outputs": [
    {
     "name": "stdout",
     "output_type": "stream",
     "text": [
      "F1 Score of SelfTrainingClassifier: 0.727\n",
      "Accuracy Score of SelfTrainingClassifier: 0.895\n"
     ]
    }
   ],
   "source": [
    "# create SelfTrainingClassifier object and classifier(SVC) object\n",
    "svc_ = SVC(kernel = 'linear', class_weight = 'balanced', probability = True)\n",
    "stc = SelfTrainingClassifier(svc_)\n",
    "\n",
    "# fit SelfTrainingClassifier\n",
    "stc.fit(feature, label_)\n",
    "\n",
    "# predict label\n",
    "label_prediction = stc.predict(feature)\n",
    "\n",
    "# model performance\n",
    "f1_score_stc = f1_score(label, label_prediction)\n",
    "acc_score_stc = accuracy_score(label, label_prediction)\n",
    "\n",
    "# print_result\n",
    "print('F1 Score of SelfTrainingClassifier: {:.3f}'.format(f1_score_stc))\n",
    "print('Accuracy Score of SelfTrainingClassifier: {:.3f}'.format(acc_score_stc))"
   ]
  },
  {
   "cell_type": "markdown",
   "id": "ab4a1f71-cc67-42a9-83ff-4f7e47f4fd50",
   "metadata": {
    "tags": []
   },
   "source": [
    "### Build Supervised Classifier Using KFold and select best model"
   ]
  },
  {
   "cell_type": "markdown",
   "id": "2e1fb7f2-3fa6-4515-bbc0-0b6afd31955b",
   "metadata": {},
   "source": [
    "- #### Determining number of components to retain from train_set"
   ]
  },
  {
   "cell_type": "code",
   "execution_count": 527,
   "id": "a3d854e2-f2b0-4ad5-9859-84bb72b6b627",
   "metadata": {},
   "outputs": [
    {
     "name": "stdout",
     "output_type": "stream",
     "text": [
      "Number of Components to Retain: PCA(n_components=59)\n",
      "\n"
     ]
    },
    {
     "data": {
      "image/png": "[encoded data removed]",
      "text/plain": [
       "<Figure size 640x480 with 1 Axes>"
      ]
     },
     "metadata": {},
     "output_type": "display_data"
    }
   ],
   "source": [
    "sample = sample_data.copy().sample(frac=1, random_state=42, ignore_index=True)\n",
    "\n",
    "reviews = sample['Review']\n",
    "label = sample['spam']\n",
    "\n",
    "pca = PCA()\n",
    "\n",
    "# split data into train_test_split\n",
    "x_train, x_test, y_train, y_test = train_test_split(reviews, label, test_size = 0.2, shuffle=True, random_state=42, stratify=label)\n",
    "\n",
    "# fit vectorizer on x_train\n",
    "X_train = vectorizer.fit_transform(x_train)\n",
    "\n",
    "# fit pca\n",
    "pca.fit(X_train.toarray())\n",
    "\n",
    "# retain number of components that explains at least 95% of the variance in the dataset\n",
    "# find cumulative variance rato\n",
    "cumulative_var_ratio = np.cumsum(pca.explained_variance_ratio_)\n",
    "\n",
    "# find the number of components needed to explain at least 95% of the variance\n",
    "n_component = np.argmax(cumulative_var_ratio >= 0.95) + 1\n",
    "\n",
    "# create new PCA object\n",
    "pca = PCA(n_components = n_component)\n",
    "\n",
    "# show result\n",
    "print('Number of Components to Retain: {}\\n'.format(pca))\n",
    "\n",
    "percentage_var_explained = 0.95 # Threshold of explained variance\n",
    "n = np.min(X_train.shape)\n",
    "\n",
    "n_components = np.arange(0, n)\n",
    "\n",
    "plt.plot(n_components, cumulative_var_ratio, marker='+')\n",
    "plt.axhline(percentage_var_explained, color='r', linestyle='--')\n",
    "plt.grid()\n",
    "plt.xlabel('Number of components')\n",
    "plt.ylabel('Cumulative Explained Variance Ratio')\n",
    "plt.show()"
   ]
  },
  {
   "cell_type": "code",
   "execution_count": 528,
   "id": "37dde55c-3031-4a6a-9855-c8cf47837935",
   "metadata": {},
   "outputs": [
    {
     "name": "stdout",
     "output_type": "stream",
     "text": [
      "Index of best model using f1_score: Model_1\n",
      "Index of best model using accuracy_score: Model_1\n"
     ]
    }
   ],
   "source": [
    "# initialize new classifier object\n",
    "svc = SVC(kernel = 'linear', class_weight = 'balanced', probability = True)\n",
    "vectorizer = TfidfVectorizer()\n",
    "\n",
    "# create empty arrays to store models and performance metrics for each iteration in Kfold\n",
    "model_ = []\n",
    "f1_score_ = []\n",
    "accuracy_score_ = []\n",
    "confusion_matrix_ = []\n",
    "\n",
    "# split the data into 10 splits\n",
    "kfold = KFold(n_splits=5, shuffle=True, random_state=42)\n",
    "\n",
    "for i, (train_data, test_data) in enumerate(kfold.split(reviews, label)):\n",
    "    # split the data into train_test_split\n",
    "    x_train, y_train = reviews[train_data], label[train_data]\n",
    "    x_test, y_test = reviews[test_data], label[test_data]\n",
    "    \n",
    "    # vectorize X_train and X_test\n",
    "    X_train = vectorizer.fit_transform(x_train)\n",
    "    X_test = vectorizer.transform(x_test)\n",
    "    \n",
    "    # transform using PCA object defined above\n",
    "    X_train_pca = pca.fit_transform(X_train.toarray())\n",
    "    X_test_pca = pca.transform(X_test.toarray())\n",
    "    \n",
    "    # fit the filter containing LogisticRegression as the classifier\n",
    "    model = svc.fit(X_train_pca, y_train)\n",
    "    \n",
    "    # append model into model_\n",
    "    model_.append(model)\n",
    "    \n",
    "    # model_prediction\n",
    "    prediction = model.predict(X_test_pca)\n",
    "    \n",
    "    # accuracy_score check for each model\n",
    "    acc_check = round(accuracy_score(y_test, prediction), 2) # round to 2 decimal places\n",
    "    accuracy_score_.append(acc_check)\n",
    "    \n",
    "    # f1_score check for each model\n",
    "    f_score = round(f1_score(y_test, prediction),2) # round to 2 decimal places\n",
    "    f1_score_.append(f_score)\n",
    "    \n",
    "    # confusion_matrix for each model\n",
    "    conf_mat = confusion_matrix(y_test, prediction)\n",
    "    confusion_matrix_.append(conf_mat)\n",
    "\n",
    "# print result\n",
    "print(f\"Index of best model using f1_score: Model_{np.argmax(f1_score_)}\")\n",
    "print(f\"Index of best model using accuracy_score: Model_{np.argmax(accuracy_score_)}\")"
   ]
  },
  {
   "cell_type": "code",
   "execution_count": 529,
   "id": "24166888-62a8-434b-9d34-91bc844adfef",
   "metadata": {},
   "outputs": [
    {
     "data": {
      "text/html": [
       "<div>\n",
       "<style scoped>\n",
       "    .dataframe tbody tr th:only-of-type {\n",
       "        vertical-align: middle;\n",
       "    }\n",
       "\n",
       "    .dataframe tbody tr th {\n",
       "        vertical-align: top;\n",
       "    }\n",
       "\n",
       "    .dataframe thead th {\n",
       "        text-align: right;\n",
       "    }\n",
       "</style>\n",
       "<table border=\"1\" class=\"dataframe\">\n",
       "  <thead>\n",
       "    <tr style=\"text-align: right;\">\n",
       "      <th></th>\n",
       "      <th>accuracy_score</th>\n",
       "      <th>f1_score</th>\n",
       "    </tr>\n",
       "  </thead>\n",
       "  <tbody>\n",
       "    <tr>\n",
       "      <th>0</th>\n",
       "      <td>0.72</td>\n",
       "      <td>0.29</td>\n",
       "    </tr>\n",
       "    <tr>\n",
       "      <th>1</th>\n",
       "      <td>0.94</td>\n",
       "      <td>0.80</td>\n",
       "    </tr>\n",
       "    <tr>\n",
       "      <th>2</th>\n",
       "      <td>0.82</td>\n",
       "      <td>0.40</td>\n",
       "    </tr>\n",
       "    <tr>\n",
       "      <th>3</th>\n",
       "      <td>0.76</td>\n",
       "      <td>0.00</td>\n",
       "    </tr>\n",
       "    <tr>\n",
       "      <th>4</th>\n",
       "      <td>0.65</td>\n",
       "      <td>0.25</td>\n",
       "    </tr>\n",
       "  </tbody>\n",
       "</table>\n",
       "</div>"
      ],
      "text/plain": [
       "   accuracy_score  f1_score\n",
       "0            0.72      0.29\n",
       "1            0.94      0.80\n",
       "2            0.82      0.40\n",
       "3            0.76      0.00\n",
       "4            0.65      0.25"
      ]
     },
     "execution_count": 529,
     "metadata": {},
     "output_type": "execute_result"
    }
   ],
   "source": [
    "performance_df = pd.DataFrame([accuracy_score_, f1_score_], index = ['accuracy_score', 'f1_score']).transpose()\n",
    "performance_df"
   ]
  },
  {
   "cell_type": "markdown",
   "id": "870b9109-d670-459a-a127-fa5c82553da9",
   "metadata": {
    "tags": []
   },
   "source": [
    "## Model Comparison and Selection - SelfTrainingClassifier(svc) and SVC(K Fold Best Model)\n",
    "- Create Pipelines for Models Built to Carry Out Random Test (tradeoff determinant)\n",
    "- Select better model based on the tradeoff determinant (Random Test)"
   ]
  },
  {
   "cell_type": "code",
   "execution_count": 530,
   "id": "559ab514-f3a6-4261-a5a2-85bb4786c3ac",
   "metadata": {},
   "outputs": [
    {
     "data": {
      "image/png": "[encoded data removed]",
      "text/plain": [
       "<Figure size 640x480 with 1 Axes>"
      ]
     },
     "metadata": {},
     "output_type": "display_data"
    }
   ],
   "source": [
    "# Model Comparism\n",
    "classifiers = ['Self-Training-Classifier(svc)', 'SVC(Best Model - KFold)']\n",
    "accuracy_score_perf = [acc_score_stc, accuracy_score_[1]]\n",
    "f1_score_perf = [f1_score_stc, f1_score_[1]]\n",
    "\n",
    "# plot reults\n",
    "fig, ax = plt.subplots()\n",
    "\n",
    "# accuracy_score_plot\n",
    "ax.plot(classifiers, accuracy_score_perf, color = 'blue', label='accuracy_score')\n",
    "\n",
    "# f1_score_plot\n",
    "ax.plot(classifiers, f1_score_perf, color = 'red', label='f1_score')\n",
    "\n",
    "# graph formatting\n",
    "ax.set_xlabel('ML Classifiers')\n",
    "ax.set_ylabel('Performance Metrics')\n",
    "ax.set_title('Graph of Performance Metrics vs ML Models')\n",
    "ax.legend()\n",
    "plt.show()"
   ]
  },
  {
   "cell_type": "markdown",
   "id": "28d57753-9bad-4346-9119-6028fc7679de",
   "metadata": {},
   "source": [
    "**Observation:**\n",
    "- Best Supervised ML Model obtained through KFold outperforms Semi_Supervised ML Model.\n",
    "\n",
    "**Note:**\n",
    "- The size of the sample used is relatively small. Hence there is not enough datapoints for both models to learn the relationships in the dataset.\n",
    "\n",
    "**Decision:**\n",
    "- Use both models to predict a random sentence that's most likely spam and select model with accurate prediction"
   ]
  },
  {
   "cell_type": "code",
   "execution_count": 531,
   "id": "64c7f6ae-c649-47e2-b10d-960b2ff23778",
   "metadata": {},
   "outputs": [],
   "source": [
    "def sparse_to_dense(vector):\n",
    "    return vector.toarray()"
   ]
  },
  {
   "cell_type": "code",
   "execution_count": 532,
   "id": "aef98add-cd30-4472-9109-ad8209659457",
   "metadata": {},
   "outputs": [],
   "source": [
    "stc_predictor_pipeline = make_pipeline(FunctionTransformer(text_preprocessing), vectorizer_, FunctionTransformer(sparse_to_dense), pca_, stc)\n",
    "svc_predictor_pipeline = make_pipeline(FunctionTransformer(text_preprocessing), vectorizer, FunctionTransformer(sparse_to_dense), pca, model_[1])"
   ]
  },
  {
   "cell_type": "code",
   "execution_count": 533,
   "id": "273bfec6-5b87-4ad5-aa35-cfc609a0ab26",
   "metadata": {},
   "outputs": [
    {
     "data": {
      "text/plain": [
       "(array([0]), array([1]))"
      ]
     },
     "execution_count": 533,
     "metadata": {},
     "output_type": "execute_result"
    }
   ],
   "source": [
    "# Random Test\n",
    "string = 'Head on to my youtube page for more interesting contents! visit my link @ youtube.com/EMSE_6586/best_class'\n",
    "\n",
    "# predict if spam or not\n",
    "stc_predictor_pipeline.predict(string), svc_predictor_pipeline.predict(string)"
   ]
  },
  {
   "cell_type": "markdown",
   "id": "d641b7b9-ded4-466b-89fc-4ffd1f1f8d6d",
   "metadata": {},
   "source": [
    "Supervised ML Model Performed better than Semi_Supervised Model in Random Test"
   ]
  },
  {
   "cell_type": "code",
   "execution_count": 534,
   "id": "d1dfb0e1-dbe5-4ca1-af51-00b3d73d37e5",
   "metadata": {},
   "outputs": [
    {
     "data": {
      "text/plain": [
       "['spam_detector.joblib']"
      ]
     },
     "execution_count": 534,
     "metadata": {},
     "output_type": "execute_result"
    }
   ],
   "source": [
    "# save selected model:\n",
    "joblib.dump(svc_predictor_pipeline, 'spam_detector.joblib')"
   ]
  }
 ],
 "metadata": {
  "kernelspec": {
   "display_name": "Python 3 (ipykernel)",
   "language": "python",
   "name": "python3"
  },
  "language_info": {
   "codemirror_mode": {
    "name": "ipython",
    "version": 3
   },
   "file_extension": ".py",
   "mimetype": "text/x-python",
   "name": "python",
   "nbconvert_exporter": "python",
   "pygments_lexer": "ipython3",
   "version": "3.9.13"
  }
 },
 "nbformat": 4,
 "nbformat_minor": 5
}
