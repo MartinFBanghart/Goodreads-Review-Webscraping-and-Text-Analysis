{
 "cells": [
  {
   "cell_type": "code",
   "execution_count": 432,
   "id": "8e9e7b12-dc9e-425f-9184-61b6750ee80f",
   "metadata": {},
   "outputs": [],
   "source": [
    "# import libraries\n",
    "import pandas as pd\n",
    "import json\n",
    "import re\n",
    "import gdown\n",
    "from datetime import datetime\n",
    "from arango import ArangoClient\n",
    "import matplotlib.pyplot as plt\n",
    "from sklearn.feature_selection import chi2\n",
    "\n",
    "# import machine learning model and model dependency script\n",
    "from model_dependency_script import text_preprocessing, sparse_to_dense\n",
    "import joblib"
   ]
  },
  {
   "cell_type": "markdown",
   "id": "29d7f992-65c7-4cbb-9047-ae9eccc07671",
   "metadata": {},
   "source": [
    "**Introduction**\n",
    "\n",
    "- In this notebook, we create a graph database('Goodreads_Book_Reviews') with Arango to store top_100 books and user_reviews of each book, as obtained from goodreads.com. The goodreads scraped data is stored in a google drive and as a result, will be uploaded from google drive to Arango.\n",
    "\n",
    "    The aim of this exercise is to query data based on the relationship(s) that exists between data.\n",
    "\n",
    "    In addition to this, analysis will be carried out to examine the correlation between Reviews and Rating. To aid this process, a machine learning spam filter has been developed to assist in the identification and filtering of spam or irrelevant reviews, whose presence in the dataset may affect the result of our analysis. For this task, spam/irrelevant reviews will be removed from the Book_Reviews collection and stored in a collection called 'Spam_Reviews'.\n",
    "    \n",
    "    Due to the size of the dataset, the books on which we would focus on from our database are: \n",
    "    1. To Kill a Mockingbird\n",
    "    2. 1984\n",
    "    3. The Lord of the Rings\n",
    "\n",
    "link to spam_detector ML development and analysis: https://github.com/MartinFBanghart/Goodreads-Review-Webscraping-and-Text-Analysis/tree/main/Spam-Detection-ML\n",
    "\n",
    "**Note**\n",
    "- The **model_dependency_script.py** and **spam_detector.joblib** should be downloaded and situated in the same directory on your local machine for successful import."
   ]
  },
  {
   "cell_type": "markdown",
   "id": "43c3a85a-5dda-426e-9552-b4d97144dda3",
   "metadata": {},
   "source": [
    "## Connect to database"
   ]
  },
  {
   "cell_type": "code",
   "execution_count": 389,
   "id": "62222e3e-57bf-4f78-85b7-0bc32c444b7c",
   "metadata": {},
   "outputs": [],
   "source": [
    "# Arango Client Connection\n",
    "client = ArangoClient(hosts= \"http://localhost:8529\")\n",
    "\n",
    "# database connection\n",
    "db = client.db('Goodreads_Book_Reviews', username = 'root', password = 'bolajimartinArango')"
   ]
  },
  {
   "cell_type": "markdown",
   "id": "d759565d-6d02-4be6-bc94-c2cbb387c513",
   "metadata": {},
   "source": [
    "## Check and Delete collections in the database if collections exist"
   ]
  },
  {
   "cell_type": "code",
   "execution_count": 151,
   "id": "b946821f-69b0-474d-a17e-c5c40d7fc768",
   "metadata": {},
   "outputs": [
    {
     "name": "stdout",
     "output_type": "stream",
     "text": [
      "deleted status: True\n",
      "deleted status: True\n",
      "deleted status: True\n",
      "deleted status: True\n",
      "deleted status: True\n"
     ]
    }
   ],
   "source": [
    "list_of_collections = ['Top_100_Books', 'Book_Reviews', 'reviews_per_book', 'Spam_Reviews', 'spam_reviews_per_book']\n",
    "\n",
    "for i in list_of_collections:\n",
    "    if db.has_collection(i) == True:\n",
    "        print('deleted status: {}'.format(db.delete_collection(i)))"
   ]
  },
  {
   "cell_type": "markdown",
   "id": "1d8e93be-41ba-41d8-882b-80b1d77a6902",
   "metadata": {
    "tags": []
   },
   "source": [
    "## Creating First Collection - Top_100_Books\n",
    "\n",
    "Process:\n",
    "- Read File from Google Drive and Change to JSON if file type is not Json\n",
    "- Obtain Keys in the File\n",
    "- Create collection (Top_100_Books)in the Goodreads_Book_Reviews Database\n",
    "- Define the Schemas for the keys in the document and load document into the collection - Top_100_Books"
   ]
  },
  {
   "cell_type": "code",
   "execution_count": 152,
   "id": "2841fc49-82b8-4f81-85af-1c2afbfee498",
   "metadata": {},
   "outputs": [],
   "source": [
    "# read file to be loaded into Arango from google drive into Python\n",
    "url = \"https://drive.google.com/file/d/1FuHlnpkGxleewKeCesZMAQYmhs-lB_Jb/view?usp=share_link\"\n",
    "file_path = \"https://drive.google.com/uc?id=\" + url.split('/')[-2]\n",
    "top100books = pd.read_csv(file_path)"
   ]
  },
  {
   "cell_type": "markdown",
   "id": "f3cb923b-bf40-4592-93ad-09e108d4a1a0",
   "metadata": {},
   "source": [
    "### data cleaning and transformation"
   ]
  },
  {
   "cell_type": "code",
   "execution_count": 153,
   "id": "62414185-1bc7-47ff-a5c7-9104116632fe",
   "metadata": {},
   "outputs": [
    {
     "data": {
      "text/html": [
       "<div>\n",
       "<style scoped>\n",
       "    .dataframe tbody tr th:only-of-type {\n",
       "        vertical-align: middle;\n",
       "    }\n",
       "\n",
       "    .dataframe tbody tr th {\n",
       "        vertical-align: top;\n",
       "    }\n",
       "\n",
       "    .dataframe thead th {\n",
       "        text-align: right;\n",
       "    }\n",
       "</style>\n",
       "<table border=\"1\" class=\"dataframe\">\n",
       "  <thead>\n",
       "    <tr style=\"text-align: right;\">\n",
       "      <th></th>\n",
       "      <th>Book Title</th>\n",
       "      <th>Book Link</th>\n",
       "      <th>Review Page Link</th>\n",
       "      <th>Unique ID</th>\n",
       "    </tr>\n",
       "  </thead>\n",
       "  <tbody>\n",
       "    <tr>\n",
       "      <th>62</th>\n",
       "      <td>Go Tell It on the Mountain</td>\n",
       "      <td>https://www.goodreads.com/book/show/17143.Go_T...</td>\n",
       "      <td>https://www.goodreads.com/book/show/17143/revi...</td>\n",
       "      <td>17143</td>\n",
       "    </tr>\n",
       "    <tr>\n",
       "      <th>39</th>\n",
       "      <td>The Heart Is a Lonely Hunter</td>\n",
       "      <td>https://www.goodreads.com/book/show/37380.The_...</td>\n",
       "      <td>https://www.goodreads.com/book/show/37380/revi...</td>\n",
       "      <td>37380</td>\n",
       "    </tr>\n",
       "  </tbody>\n",
       "</table>\n",
       "</div>"
      ],
      "text/plain": [
       "                      Book Title  \\\n",
       "62    Go Tell It on the Mountain   \n",
       "39  The Heart Is a Lonely Hunter   \n",
       "\n",
       "                                            Book Link  \\\n",
       "62  https://www.goodreads.com/book/show/17143.Go_T...   \n",
       "39  https://www.goodreads.com/book/show/37380.The_...   \n",
       "\n",
       "                                     Review Page Link  Unique ID  \n",
       "62  https://www.goodreads.com/book/show/17143/revi...      17143  \n",
       "39  https://www.goodreads.com/book/show/37380/revi...      37380  "
      ]
     },
     "execution_count": 153,
     "metadata": {},
     "output_type": "execute_result"
    }
   ],
   "source": [
    "# view data in csv\n",
    "top100books.sample(2)"
   ]
  },
  {
   "cell_type": "code",
   "execution_count": 154,
   "id": "b8fd6ca4-de8c-4fad-8fa2-2dabb4268b84",
   "metadata": {},
   "outputs": [
    {
     "data": {
      "text/plain": [
       "Index(['book_title', 'book_link', 'review_page_link', 'unique_id'], dtype='object')"
      ]
     },
     "execution_count": 154,
     "metadata": {},
     "output_type": "execute_result"
    }
   ],
   "source": [
    "# obtain the keys in the json file\n",
    "columns_top100books = [i.lower().replace(' ', '_') for i in list(top100books.keys())]\n",
    "\n",
    "for i in range(len(columns_top100books)):\n",
    "    top100books = top100books.rename(columns = {top100books.columns[i]: columns_top100books[i]})\n",
    "\n",
    "top100books.columns"
   ]
  },
  {
   "cell_type": "code",
   "execution_count": 155,
   "id": "56eb452f-6598-4482-972f-a33236e6391a",
   "metadata": {},
   "outputs": [],
   "source": [
    "# transform into json format to load into Arango\n",
    "top_100books_json = json.loads(top100books.to_json(orient='records'))"
   ]
  },
  {
   "cell_type": "markdown",
   "id": "a0e3423b-54b5-42ba-9be8-deb319cc90a4",
   "metadata": {},
   "source": [
    "### data loading"
   ]
  },
  {
   "cell_type": "code",
   "execution_count": 156,
   "id": "b2d0c46a-8475-4d2a-9926-342dd978d7f9",
   "metadata": {
    "tags": []
   },
   "outputs": [
    {
     "data": {
      "text/plain": [
       "{'error': False,\n",
       " 'created': 100,\n",
       " 'errors': 0,\n",
       " 'empty': 0,\n",
       " 'updated': 0,\n",
       " 'ignored': 0,\n",
       " 'details': []}"
      ]
     },
     "execution_count": 156,
     "metadata": {},
     "output_type": "execute_result"
    }
   ],
   "source": [
    "# define schemas for the keys in the json file\n",
    "top100books_schema = {\n",
    "    'rule': {\n",
    "        'type': 'object',\n",
    "        'properties': {\n",
    "            'book_title': {'type': ['string', 'null']},\n",
    "            'book_link': {'type': ['string', 'null']},\n",
    "            'review_page_link': {'type': ['string', 'null']},\n",
    "            'unique_id' : {'type': ['integer', 'null']}\n",
    "            \n",
    "        },\n",
    "        'required': ['book_title', 'book_link', 'review_page_link', 'unique_id']\n",
    "    },\n",
    "    'level': 'moderate',\n",
    "    'message': 'Schema Validation Failed.'\n",
    "}\n",
    "\n",
    "# create collection in the database\n",
    "top_100books_collection = db.create_collection('Top_100_Books', schema = top100books_schema)\n",
    "\n",
    "# import json file into collection - top_100books_collection\n",
    "top_100books_collection.import_bulk(top_100books_json)"
   ]
  },
  {
   "cell_type": "markdown",
   "id": "44af94a1-6cb7-4b70-a7a4-fec5011b4fa4",
   "metadata": {
    "tags": []
   },
   "source": [
    "## Create Second Collection - Book Reviews\n",
    "\n",
    "- Read File from Google Drive and Change to JSON if file type is not Json\n",
    "- Obtain Keys in the File\n",
    "- Create collection (Book_Reviews)in the Goodreads_Book_Reviews Database\n",
    "- Define the Schemas for the keys in the document and load document into the collection - Book_Reviews"
   ]
  },
  {
   "cell_type": "code",
   "execution_count": 157,
   "id": "cd7a896f-5167-43f4-a4e4-c08898bce122",
   "metadata": {
    "tags": []
   },
   "outputs": [],
   "source": [
    "url_bookreviews = \"https://drive.google.com/file/d/1SCrhzFD_pouvKb1njckacKsBWdSPMPjB/view?usp=share_link\"\n",
    "fileurl_bookreviews = \"https://drive.google.com/uc?id=\" + url_bookreviews.split('/')[-2]\n",
    "\n",
    "# download file from google drive for easy loading into Python due to large file size preventing google drive from scanning\n",
    "bookReviews = gdown.download(fileurl_bookreviews, 'BookReviews.csv', quiet=True)\n",
    "\n",
    "# load downloaded data into pandas\n",
    "book_reviews = pd.read_csv(bookReviews)"
   ]
  },
  {
   "cell_type": "markdown",
   "id": "298817ef-7154-46d8-8374-af679e7a1976",
   "metadata": {},
   "source": [
    "### data cleaning and transformation"
   ]
  },
  {
   "cell_type": "code",
   "execution_count": 158,
   "id": "cb3d1c17-bcd9-48ca-a488-31089dd8826a",
   "metadata": {},
   "outputs": [
    {
     "data": {
      "text/html": [
       "<div>\n",
       "<style scoped>\n",
       "    .dataframe tbody tr th:only-of-type {\n",
       "        vertical-align: middle;\n",
       "    }\n",
       "\n",
       "    .dataframe tbody tr th {\n",
       "        vertical-align: top;\n",
       "    }\n",
       "\n",
       "    .dataframe thead th {\n",
       "        text-align: right;\n",
       "    }\n",
       "</style>\n",
       "<table border=\"1\" class=\"dataframe\">\n",
       "  <thead>\n",
       "    <tr style=\"text-align: right;\">\n",
       "      <th></th>\n",
       "      <th>User Href</th>\n",
       "      <th>Title</th>\n",
       "      <th>Rating</th>\n",
       "      <th>Date</th>\n",
       "      <th>Likes</th>\n",
       "      <th>Comments</th>\n",
       "      <th>Review</th>\n",
       "      <th>Display Name</th>\n",
       "      <th>User ID</th>\n",
       "      <th>Language</th>\n",
       "    </tr>\n",
       "  </thead>\n",
       "  <tbody>\n",
       "    <tr>\n",
       "      <th>0</th>\n",
       "      <td>https://www.goodreads.com/user/show/45198798-l...</td>\n",
       "      <td>To Kill a Mockingbird</td>\n",
       "      <td>0.2</td>\n",
       "      <td>03-24-2022</td>\n",
       "      <td>964</td>\n",
       "      <td>88</td>\n",
       "      <td>/// gentle reminder that this is not the time ...</td>\n",
       "      <td>leynes</td>\n",
       "      <td>45198798</td>\n",
       "      <td>en</td>\n",
       "    </tr>\n",
       "    <tr>\n",
       "      <th>1</th>\n",
       "      <td>https://www.goodreads.com/user/show/1413439-st...</td>\n",
       "      <td>To Kill a Mockingbird</td>\n",
       "      <td>1.0</td>\n",
       "      <td>05-24-2011</td>\n",
       "      <td>1445</td>\n",
       "      <td>104</td>\n",
       "      <td>6.0 stars. I know I am risking a serious “FILM...</td>\n",
       "      <td>stephen</td>\n",
       "      <td>1413439</td>\n",
       "      <td>en</td>\n",
       "    </tr>\n",
       "  </tbody>\n",
       "</table>\n",
       "</div>"
      ],
      "text/plain": [
       "                                           User Href                  Title  \\\n",
       "0  https://www.goodreads.com/user/show/45198798-l...  To Kill a Mockingbird   \n",
       "1  https://www.goodreads.com/user/show/1413439-st...  To Kill a Mockingbird   \n",
       "\n",
       "   Rating        Date  Likes  Comments  \\\n",
       "0     0.2  03-24-2022    964        88   \n",
       "1     1.0  05-24-2011   1445       104   \n",
       "\n",
       "                                              Review Display Name   User ID  \\\n",
       "0  /// gentle reminder that this is not the time ...       leynes  45198798   \n",
       "1  6.0 stars. I know I am risking a serious “FILM...      stephen   1413439   \n",
       "\n",
       "  Language  \n",
       "0       en  \n",
       "1       en  "
      ]
     },
     "execution_count": 158,
     "metadata": {},
     "output_type": "execute_result"
    }
   ],
   "source": [
    "book_reviews.head(2)"
   ]
  },
  {
   "cell_type": "code",
   "execution_count": 159,
   "id": "937f14a3-cfdb-4bf7-9b69-95ee579579aa",
   "metadata": {},
   "outputs": [
    {
     "data": {
      "text/plain": [
       "Index(['user_href', 'title', 'rating', 'date', 'likes', 'comments', 'review',\n",
       "       'display_name', 'user_id', 'language'],\n",
       "      dtype='object')"
      ]
     },
     "execution_count": 159,
     "metadata": {},
     "output_type": "execute_result"
    }
   ],
   "source": [
    "columns_book_reviews = [i.lower().replace(' ', '_') for i in list(book_reviews.keys())]\n",
    "\n",
    "for i in range(len(columns_book_reviews)):\n",
    "    book_reviews = book_reviews.rename(columns = {book_reviews.columns[i]: columns_book_reviews[i]})\n",
    "\n",
    "book_reviews.columns"
   ]
  },
  {
   "cell_type": "code",
   "execution_count": 160,
   "id": "0c1f016a-49a3-4d47-a36e-93459be3b7ec",
   "metadata": {},
   "outputs": [],
   "source": [
    "def datacleaning(dataframe):\n",
    "    # multiply ratings by 5 to get the actual ratings\n",
    "    dataframe['rating'] = dataframe['rating'].apply(lambda x: int(x * 5))\n",
    "    \n",
    "    return dataframe\n",
    "\n",
    "# update dataframe\n",
    "book_reviews = datacleaning(book_reviews)\n",
    "\n",
    "# transform to json\n",
    "book_reviews_json = json.loads(book_reviews.to_json(orient = 'records'))"
   ]
  },
  {
   "cell_type": "markdown",
   "id": "84bb5394-6391-4588-a2a8-a8e4f578fc8a",
   "metadata": {},
   "source": [
    "### data loading"
   ]
  },
  {
   "cell_type": "code",
   "execution_count": 161,
   "id": "356481a7-94fe-4088-9676-130e40b93e85",
   "metadata": {
    "tags": []
   },
   "outputs": [
    {
     "data": {
      "text/plain": [
       "{'error': False,\n",
       " 'created': 100359,\n",
       " 'errors': 0,\n",
       " 'empty': 0,\n",
       " 'updated': 0,\n",
       " 'ignored': 0,\n",
       " 'details': []}"
      ]
     },
     "execution_count": 161,
     "metadata": {},
     "output_type": "execute_result"
    }
   ],
   "source": [
    "# define schemas for the keys in the json file\n",
    "book_reviews_schema = {\n",
    "    'rule': {\n",
    "        'type': 'object',\n",
    "        'properties': {\n",
    "            'user_href': {'type': ['string', 'null']},\n",
    "            'title': {'type': ['string', 'null']},\n",
    "            'rating': {'type': ['integer', 'null']},\n",
    "            'date' : {'type': ['string', 'null']},\n",
    "            'likes' : {'type': ['integer', 'null']},\n",
    "            'comments' : {'type': ['integer', 'null']},\n",
    "            'review' : {'type': ['string', 'null']},\n",
    "            'display_name': {'type': ['string', 'null']},\n",
    "            'user_id' : {'type': ['integer', 'null']},\n",
    "            'language' : {'type': ['string', 'null']}  \n",
    "        },\n",
    "        'required': ['user_href', 'title', 'rating', 'date', 'likes', 'comments', 'review', 'display_name', 'user_id', 'language']\n",
    "    },\n",
    "    'level': 'moderate',\n",
    "    'message': 'Schema Validation Failed.'\n",
    "}\n",
    "\n",
    "# create collection in the database\n",
    "book_reviews_collection = db.create_collection('Book_Reviews', schema = book_reviews_schema)\n",
    "\n",
    "# import json file into collection - Book_Reviews\n",
    "book_reviews_collection.import_bulk(book_reviews_json)"
   ]
  },
  {
   "cell_type": "markdown",
   "id": "e0a1ec56-4d17-4d96-8db2-41c00d1fe30b",
   "metadata": {
    "tags": []
   },
   "source": [
    "## Create Edge Collection Between Top 100 Books and Book Reviews\n",
    "\n",
    "query for insertion in to edge document:\n",
    "- for each book in the top_100_books collection, filter its reviews in the Book_Reviews collection by matching the book_title field in Top_100_Books to the title field in the Book_Reviews collection. Afterwhich define the connecting edges between both collections using the '._id' field"
   ]
  },
  {
   "cell_type": "code",
   "execution_count": 185,
   "id": "5ac50f75-97b3-4bc4-8f0c-eb9b06867d0c",
   "metadata": {},
   "outputs": [],
   "source": [
    "query = '''\n",
    "FOR book IN Top_100_Books\n",
    "    FOR reviews IN Book_Reviews\n",
    "        FILTER reviews.title == book.book_title\n",
    "        INSERT {\n",
    "            _from: book._id,\n",
    "            _to: reviews._id,\n",
    "            user_id: reviews.user_id,\n",
    "            display_name: reviews.display_name,\n",
    "            title: reviews.title,\n",
    "            rating: reviews.rating,\n",
    "            review: reviews.review\n",
    "        } INTO reviews_per_book\n",
    "'''\n",
    "\n",
    "# create edge collection\n",
    "db.create_collection('reviews_per_book', edge=True)\n",
    "cursor = db.aql.execute(query)"
   ]
  },
  {
   "cell_type": "markdown",
   "id": "0b32b7be-8c44-4ba5-b5c5-4e320d3b67a0",
   "metadata": {},
   "source": [
    "## Analysis\n",
    "\n",
    "1. Process\n",
    "    - Identify and Remove Irrelevant Reviews\n",
    "    - Create Collection of Spam/Irrelevant Reviews and Remove from overall list of Book_Reviews\n",
    "    - Perform Exploratory Analysis on Book_Reviews Collection\n",
    " \n",
    "2. For this task, 3 books will be focused on due to the following:\n",
    "    - Computation time\n",
    "     - Difference in Nature of Reviews\n",
    "     \n",
    "3. Review Concentrations:\n",
    "    - To Kill a Mockingbird\n",
    "    - 1984\n",
    "    - The Lord of the Rings"
   ]
  },
  {
   "cell_type": "code",
   "execution_count": 164,
   "id": "1a667070-a3fb-4bed-a82d-f2644abb8235",
   "metadata": {},
   "outputs": [
    {
     "data": {
      "text/html": [
       "<div>\n",
       "<style scoped>\n",
       "    .dataframe tbody tr th:only-of-type {\n",
       "        vertical-align: middle;\n",
       "    }\n",
       "\n",
       "    .dataframe tbody tr th {\n",
       "        vertical-align: top;\n",
       "    }\n",
       "\n",
       "    .dataframe thead th {\n",
       "        text-align: right;\n",
       "    }\n",
       "</style>\n",
       "<table border=\"1\" class=\"dataframe\">\n",
       "  <thead>\n",
       "    <tr style=\"text-align: right;\">\n",
       "      <th></th>\n",
       "      <th>_key</th>\n",
       "      <th>_id</th>\n",
       "      <th>_rev</th>\n",
       "      <th>user_href</th>\n",
       "      <th>title</th>\n",
       "      <th>rating</th>\n",
       "      <th>date</th>\n",
       "      <th>likes</th>\n",
       "      <th>comments</th>\n",
       "      <th>review</th>\n",
       "      <th>display_name</th>\n",
       "      <th>user_id</th>\n",
       "      <th>language</th>\n",
       "    </tr>\n",
       "  </thead>\n",
       "  <tbody>\n",
       "    <tr>\n",
       "      <th>32</th>\n",
       "      <td>1703155</td>\n",
       "      <td>Book_Reviews/1703155</td>\n",
       "      <td>_f3shdCW---</td>\n",
       "      <td>https://www.goodreads.com/user/show/4685500-an...</td>\n",
       "      <td>To Kill a Mockingbird</td>\n",
       "      <td>5</td>\n",
       "      <td>09-1-2017</td>\n",
       "      <td>180</td>\n",
       "      <td>49</td>\n",
       "      <td>The first time I read this I was much , much y...</td>\n",
       "      <td>angela-m</td>\n",
       "      <td>4685500</td>\n",
       "      <td>en</td>\n",
       "    </tr>\n",
       "    <tr>\n",
       "      <th>1817</th>\n",
       "      <td>1716562</td>\n",
       "      <td>Book_Reviews/1716562</td>\n",
       "      <td>_f3shdpK--d</td>\n",
       "      <td>https://www.goodreads.com/user/show/5159766-l-...</td>\n",
       "      <td>1984</td>\n",
       "      <td>5</td>\n",
       "      <td>03-23-2021</td>\n",
       "      <td>20</td>\n",
       "      <td>0</td>\n",
       "      <td>This is the book to read right now, even if yo...</td>\n",
       "      <td>l-a-starks</td>\n",
       "      <td>5159766</td>\n",
       "      <td>en</td>\n",
       "    </tr>\n",
       "    <tr>\n",
       "      <th>2704</th>\n",
       "      <td>1728230</td>\n",
       "      <td>Book_Reviews/1728230</td>\n",
       "      <td>_f3shd8i--b</td>\n",
       "      <td>https://www.goodreads.com/user/show/6519317-mia</td>\n",
       "      <td>The Lord of the Rings</td>\n",
       "      <td>4</td>\n",
       "      <td>10-16-2014</td>\n",
       "      <td>3</td>\n",
       "      <td>0</td>\n",
       "      <td>The Lord of the Rings: My EverestIt took over ...</td>\n",
       "      <td>mia</td>\n",
       "      <td>6519317</td>\n",
       "      <td>en</td>\n",
       "    </tr>\n",
       "  </tbody>\n",
       "</table>\n",
       "</div>"
      ],
      "text/plain": [
       "         _key                   _id         _rev  \\\n",
       "32    1703155  Book_Reviews/1703155  _f3shdCW---   \n",
       "1817  1716562  Book_Reviews/1716562  _f3shdpK--d   \n",
       "2704  1728230  Book_Reviews/1728230  _f3shd8i--b   \n",
       "\n",
       "                                              user_href  \\\n",
       "32    https://www.goodreads.com/user/show/4685500-an...   \n",
       "1817  https://www.goodreads.com/user/show/5159766-l-...   \n",
       "2704    https://www.goodreads.com/user/show/6519317-mia   \n",
       "\n",
       "                      title  rating        date  likes  comments  \\\n",
       "32    To Kill a Mockingbird       5   09-1-2017    180        49   \n",
       "1817                   1984       5  03-23-2021     20         0   \n",
       "2704  The Lord of the Rings       4  10-16-2014      3         0   \n",
       "\n",
       "                                                 review display_name  user_id  \\\n",
       "32    The first time I read this I was much , much y...     angela-m  4685500   \n",
       "1817  This is the book to read right now, even if yo...   l-a-starks  5159766   \n",
       "2704  The Lord of the Rings: My EverestIt took over ...          mia  6519317   \n",
       "\n",
       "     language  \n",
       "32         en  \n",
       "1817       en  \n",
       "2704       en  "
      ]
     },
     "execution_count": 164,
     "metadata": {},
     "output_type": "execute_result"
    }
   ],
   "source": [
    "# retrieve documents for the the book concentrations listed above\n",
    "\n",
    "query = '''\n",
    "FOR book IN Book_Reviews\n",
    "FILTER book.title IN [\"To Kill a Mockingbird\", \"1984\", \"The Lord of the Rings\"]\n",
    "RETURN book\n",
    "'''\n",
    "\n",
    "dataset = pd.DataFrame(list(db.aql.execute(query)))\n",
    "dataset.sample(3)"
   ]
  },
  {
   "cell_type": "markdown",
   "id": "a96e23c7-133b-4de5-bb28-f162e550b676",
   "metadata": {},
   "source": [
    "### Identify Irrelevant/Spam Reviews using ML Model - Please see link in Introduction Cell on How to Import and Use"
   ]
  },
  {
   "cell_type": "code",
   "execution_count": 165,
   "id": "931ed466-b02b-47a0-a586-e91b35d8c5a3",
   "metadata": {
    "tags": []
   },
   "outputs": [
    {
     "name": "stdout",
     "output_type": "stream",
     "text": [
      "Model Pipeline: Pipeline(steps=[('functiontransformer-1',\n",
      "                 FunctionTransformer(func=<function text_preprocessing at 0x7fdb4cf77820>)),\n",
      "                ('tfidfvectorizer', TfidfVectorizer()),\n",
      "                ('functiontransformer-2',\n",
      "                 FunctionTransformer(func=<function sparse_to_dense at 0x7fdb4cfae430>)),\n",
      "                ('pca', PCA(n_components=59)),\n",
      "                ('svc',\n",
      "                 SVC(class_weight='balanced', kernel='linear',\n",
      "                     probability=True))])\n",
      "\n",
      "Number of Relevant and Irrelevant Reviews:\n",
      "0    3173\n",
      "1     134\n",
      "dtype: int64\n"
     ]
    }
   ],
   "source": [
    "# import spam detector\n",
    "model_path = '/Users/mobolajishobanke/Desktop/Personal/Personal Projects/Machine Learning/spam_detector.joblib'\n",
    "spam_detector = joblib.load(model_path)\n",
    "\n",
    "# view spam_detector_pipeline model\n",
    "print('Model Pipeline: {}\\n'.format(spam_detector))\n",
    "\n",
    "# identify relevant and irrelevant reviews \n",
    "label = spam_detector.predict(dataset.review)\n",
    "\n",
    "# print results\n",
    "print('Number of Relevant and Irrelevant Reviews:\\n{}'.format(pd.DataFrame(label).value_counts()))"
   ]
  },
  {
   "cell_type": "markdown",
   "id": "d204fec9-cd9b-4e34-9dc7-d078936980a0",
   "metadata": {},
   "source": [
    "## Create Spam Reviews Collection"
   ]
  },
  {
   "cell_type": "code",
   "execution_count": 170,
   "id": "d0f934e9-2b30-4080-858e-ab8b9b2e304f",
   "metadata": {},
   "outputs": [
    {
     "data": {
      "text/plain": [
       "{'error': False,\n",
       " 'created': 134,\n",
       " 'errors': 0,\n",
       " 'empty': 0,\n",
       " 'updated': 0,\n",
       " 'ignored': 0,\n",
       " 'details': []}"
      ]
     },
     "execution_count": 170,
     "metadata": {},
     "output_type": "execute_result"
    }
   ],
   "source": [
    "# collect spam reviews into a separate collection\n",
    "dataset['spam'] = label\n",
    "spam_reviews_json = json.loads(dataset[dataset.spam == 1].to_json(orient = 'records'))\n",
    "\n",
    "# create spam_reviews collection in arango\n",
    "spam_reviews_collection = db.create_collection('Spam_Reviews', schema = book_reviews_schema)\n",
    "\n",
    "# import json file into collection - Book_Reviews\n",
    "spam_reviews_collection.import_bulk(spam_reviews_json)"
   ]
  },
  {
   "cell_type": "markdown",
   "id": "35383603-37d6-486e-b079-cbe3aebcf83f",
   "metadata": {},
   "source": [
    "### Remove Duplicate reviews that exist in Book_Reviews and Spam_Reviews"
   ]
  },
  {
   "cell_type": "code",
   "execution_count": 194,
   "id": "5fd9db62-e9e0-4feb-bf77-201e61f0dcb1",
   "metadata": {},
   "outputs": [
    {
     "name": "stdout",
     "output_type": "stream",
     "text": [
      "Check: \n",
      "If successfully removed, reference_document (1703141) should exist in Spam_Reviews but not in Book_Reviews\n",
      "\n",
      "Document Found in >> Spam_Reviews \n",
      "Document Not Found in >> Book_Reviews\n"
     ]
    }
   ],
   "source": [
    "query = '''\n",
    "FOR reviews IN Book_Reviews\n",
    "FILTER reviews._key IN (FOR spam IN Spam_Reviews RETURN spam._key)\n",
    "REMOVE reviews IN Book_Reviews\n",
    "'''\n",
    "\n",
    "db.aql.execute(query)\n",
    "\n",
    "#check\n",
    "collections = ['Spam_Reviews', 'Book_Reviews']\n",
    "reference_document = spam_reviews_json[0]['_key']\n",
    "\n",
    "print(f'Check: \\nIf successfully removed, reference_document ({reference_document}) should exist in Spam_Reviews but not in Book_Reviews\\n')\n",
    "\n",
    "for i in collections:\n",
    "    q = f''' FOR rev IN {i}\n",
    "    FILTER rev._key == '{reference_document}'\n",
    "    RETURN rev'''\n",
    "    \n",
    "    check = list(db.aql.execute(q))\n",
    "\n",
    "    if len(check) == 0:\n",
    "        print(f\"Document Not Found in >> {i}\")\n",
    "    else:\n",
    "        print(f\"Document Found in >> {i} \")"
   ]
  },
  {
   "cell_type": "markdown",
   "id": "a076e471-eaa5-4419-954d-9a79212ddfab",
   "metadata": {},
   "source": [
    "### Create Edge Collection between Spam_Reviews and Book_Reviews"
   ]
  },
  {
   "cell_type": "code",
   "execution_count": 196,
   "id": "e83e4cb8-757d-4ecf-bdeb-e12d53ee37cf",
   "metadata": {},
   "outputs": [],
   "source": [
    "query = '''\n",
    "FOR reviewer IN Book_Reviews\n",
    "    FOR review IN Spam_Reviews\n",
    "        FILTER reviewer.user_id == review.user_id\n",
    "        INSERT {\n",
    "            _from: reviewer._id,\n",
    "            _to: review._id,\n",
    "        } INTO spam_reviews_per_book\n",
    "'''\n",
    "\n",
    "# create edge collection\n",
    "db.create_collection('spam_reviews_per_book', edge=True)\n",
    "cursor = db.aql.execute(query)"
   ]
  },
  {
   "cell_type": "markdown",
   "id": "34f24849-6e5d-4fd5-a134-fdf422d539af",
   "metadata": {},
   "source": [
    "## Exploratory Analysis using Arango Query Language"
   ]
  },
  {
   "cell_type": "code",
   "execution_count": 391,
   "id": "b877a721-3b97-4e23-83ff-98eabd67ea30",
   "metadata": {
    "tags": []
   },
   "outputs": [
    {
     "data": {
      "text/html": [
       "<div>\n",
       "<style scoped>\n",
       "    .dataframe tbody tr th:only-of-type {\n",
       "        vertical-align: middle;\n",
       "    }\n",
       "\n",
       "    .dataframe tbody tr th {\n",
       "        vertical-align: top;\n",
       "    }\n",
       "\n",
       "    .dataframe thead th {\n",
       "        text-align: right;\n",
       "    }\n",
       "</style>\n",
       "<table border=\"1\" class=\"dataframe\">\n",
       "  <thead>\n",
       "    <tr style=\"text-align: right;\">\n",
       "      <th></th>\n",
       "      <th>rating</th>\n",
       "      <th>review_count</th>\n",
       "      <th>avg_character_len</th>\n",
       "      <th>total_likes</th>\n",
       "      <th>total_comments</th>\n",
       "    </tr>\n",
       "  </thead>\n",
       "  <tbody>\n",
       "    <tr>\n",
       "      <th>0</th>\n",
       "      <td>0</td>\n",
       "      <td>59</td>\n",
       "      <td>970</td>\n",
       "      <td>1536</td>\n",
       "      <td>211</td>\n",
       "    </tr>\n",
       "    <tr>\n",
       "      <th>1</th>\n",
       "      <td>1</td>\n",
       "      <td>69</td>\n",
       "      <td>1019</td>\n",
       "      <td>3530</td>\n",
       "      <td>721</td>\n",
       "    </tr>\n",
       "    <tr>\n",
       "      <th>2</th>\n",
       "      <td>2</td>\n",
       "      <td>85</td>\n",
       "      <td>1279</td>\n",
       "      <td>4328</td>\n",
       "      <td>726</td>\n",
       "    </tr>\n",
       "    <tr>\n",
       "      <th>3</th>\n",
       "      <td>3</td>\n",
       "      <td>188</td>\n",
       "      <td>1612</td>\n",
       "      <td>5333</td>\n",
       "      <td>878</td>\n",
       "    </tr>\n",
       "    <tr>\n",
       "      <th>4</th>\n",
       "      <td>4</td>\n",
       "      <td>765</td>\n",
       "      <td>1386</td>\n",
       "      <td>21374</td>\n",
       "      <td>2392</td>\n",
       "    </tr>\n",
       "    <tr>\n",
       "      <th>5</th>\n",
       "      <td>5</td>\n",
       "      <td>2007</td>\n",
       "      <td>1428</td>\n",
       "      <td>68676</td>\n",
       "      <td>7777</td>\n",
       "    </tr>\n",
       "  </tbody>\n",
       "</table>\n",
       "</div>"
      ],
      "text/plain": [
       "   rating  review_count  avg_character_len  total_likes  total_comments\n",
       "0       0            59                970         1536             211\n",
       "1       1            69               1019         3530             721\n",
       "2       2            85               1279         4328             726\n",
       "3       3           188               1612         5333             878\n",
       "4       4           765               1386        21374            2392\n",
       "5       5          2007               1428        68676            7777"
      ]
     },
     "execution_count": 391,
     "metadata": {},
     "output_type": "execute_result"
    }
   ],
   "source": [
    "query ='''\n",
    "FOR books IN Book_Reviews\n",
    "    FILTER books.title IN [\"To Kill a Mockingbird\", \"1984\", \"The Lord of the Rings\"]\n",
    "    COLLECT Rating = books.rating AGGREGATE num_reviews =  COUNT(books.likes), tot_likes = SUM(books.likes),\n",
    "                avg_char_len = AVERAGE(CHAR_LENGTH(books.review)),\n",
    "                tot_comments = SUM(books.comments),\n",
    "                tot_char_length = SUM(CHAR_LENGTH(books.review))\n",
    "                \n",
    "        \n",
    "    RETURN {rating: Rating, \n",
    "            review_count: num_reviews,\n",
    "            avg_character_len: ROUND(avg_char_len),\n",
    "            total_likes: tot_likes,  \n",
    "            total_comments: tot_comments,\n",
    "            total_char_length: tot_char_length\n",
    "            }\n",
    "\n",
    "'''\n",
    "summary_stat = pd.DataFrame(list(db.aql.execute(query)))\n",
    "summary_stat.iloc[:, :-1]"
   ]
  },
  {
   "cell_type": "code",
   "execution_count": 407,
   "id": "d56f32f3-57f9-4cde-ac7e-a3740235a3d4",
   "metadata": {},
   "outputs": [
    {
     "data": {
      "image/png": "[encoded data removed]",
      "text/plain": [
       "<Figure size 640x480 with 1 Axes>"
      ]
     },
     "metadata": {},
     "output_type": "display_data"
    }
   ],
   "source": [
    "# plot average character length vs total character length\n",
    "fig, ax = plt.subplots()\n",
    "\n",
    "# accuracy_score_plot\n",
    "ax.plot(summary_stat.rating, summary_stat.avg_character_len, color = 'green', label='avg_char_length of reviews')\n",
    "\n",
    "# f1_score_plot\n",
    "ax.plot(summary_stat.rating, summary_stat.total_char_length, color = 'orange', label='total_char_length of reviews')\n",
    "\n",
    "# graph formatting\n",
    "ax.set_xlabel('Ratings')\n",
    "ax.set_ylabel('Character Length of Reviews')\n",
    "ax.set_title('Reviews vs Ratings')\n",
    "ax.legend()\n",
    "plt.show()"
   ]
  },
  {
   "cell_type": "markdown",
   "id": "4fde2781-12b2-4284-9e46-990671c18a68",
   "metadata": {},
   "source": [
    "**Observation:**\n",
    "- There seems to be a positive relationship between review_counts and rating.That is, the higher the rating, the higher the number of reviews.\n",
    "- There also is a positive relationship between average number of characters in reviews(text) and reviewer's rating. This could imply that people who are inclined to rate a book highly tend to be more verbally expressive in their reviews.\n",
    "- The average length of characters per reviewer's rating, as measured by avg_character_len, may not accurately represent the true average because some reviews have significantly more characters than others. Therefore, it would be more suitable to calculate a weighted average. Upon examining the total character length, it becomes apparent that the length of reviews increases exponentially with each level of rating. This observation supports the assumption made in the second bullet-point mentioned earlier."
   ]
  },
  {
   "cell_type": "markdown",
   "id": "2c19bbce-6107-4d45-ad3d-c45c8a91823a",
   "metadata": {},
   "source": [
    "### Carry Out Chi-Square test to evaluate if there is independence between the total_character_length of reviews and ratings"
   ]
  },
  {
   "cell_type": "code",
   "execution_count": 430,
   "id": "bc0f6956-4a84-44b6-bd2a-0bea01e0e6c0",
   "metadata": {},
   "outputs": [
    {
     "data": {
      "text/html": [
       "<div>\n",
       "<style scoped>\n",
       "    .dataframe tbody tr th:only-of-type {\n",
       "        vertical-align: middle;\n",
       "    }\n",
       "\n",
       "    .dataframe tbody tr th {\n",
       "        vertical-align: top;\n",
       "    }\n",
       "\n",
       "    .dataframe thead th {\n",
       "        text-align: right;\n",
       "    }\n",
       "</style>\n",
       "<table border=\"1\" class=\"dataframe\">\n",
       "  <thead>\n",
       "    <tr style=\"text-align: right;\">\n",
       "      <th></th>\n",
       "      <th>chi_square</th>\n",
       "      <th>pvalue</th>\n",
       "    </tr>\n",
       "  </thead>\n",
       "  <tbody>\n",
       "    <tr>\n",
       "      <th>0</th>\n",
       "      <td>8.228185e+06</td>\n",
       "      <td>0.0</td>\n",
       "    </tr>\n",
       "  </tbody>\n",
       "</table>\n",
       "</div>"
      ],
      "text/plain": [
       "     chi_square  pvalue\n",
       "0  8.228185e+06     0.0"
      ]
     },
     "execution_count": 430,
     "metadata": {},
     "output_type": "execute_result"
    }
   ],
   "source": [
    "#check for dependency\n",
    "total_char_length = summary_stat.total_char_length.values.reshape(-1,1)\n",
    "rating = summary_stat.rating.values.reshape(-1,1)\n",
    "\n",
    "chi_square, pvalues = chi2(total_char_length, rating)\n",
    "chi2_df = pd.DataFrame((chi_square, pvalues), index = [\"chi_square\", \"pvalue\"]).transpose()\n",
    "chi2_df"
   ]
  },
  {
   "cell_type": "markdown",
   "id": "c3d2cdc6-aa68-4339-ab94-8c2a773092e9",
   "metadata": {},
   "source": [
    "**Observation**\n",
    "- P-value is < 0.05. Therefore, we reject the null hypothesis in favor of the alternative hypothesis that there is a relationship or association between total character length of reviews and reviewer's rating.\n",
    "\n",
    "**Conclusion:** \n",
    "- total charatcter length of reviews has an impact on reviewer's rating of a book"
   ]
  }
 ],
 "metadata": {
  "kernelspec": {
   "display_name": "Python [conda env:root] *",
   "language": "python",
   "name": "conda-root-py"
  },
  "language_info": {
   "codemirror_mode": {
    "name": "ipython",
    "version": 3
   },
   "file_extension": ".py",
   "mimetype": "text/x-python",
   "name": "python",
   "nbconvert_exporter": "python",
   "pygments_lexer": "ipython3",
   "version": "3.9.13"
  }
 },
 "nbformat": 4,
 "nbformat_minor": 5
}
